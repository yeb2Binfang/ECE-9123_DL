{
  "nbformat": 4,
  "nbformat_minor": 0,
  "metadata": {
    "jupytext": {
      "encoding": "# -*- coding: utf-8 -*-"
    },
    "kernelspec": {
      "display_name": "Python 3",
      "language": "python",
      "name": "python3"
    },
    "language_info": {
      "codemirror_mode": {
        "name": "ipython",
        "version": 3
      },
      "file_extension": ".py",
      "mimetype": "text/x-python",
      "name": "python",
      "nbconvert_exporter": "python",
      "pygments_lexer": "ipython3",
      "version": "3.7.4"
    },
    "colab": {
      "name": "00-logic_neuron_programming.ipynb",
      "provenance": []
    }
  },
  "cells": [
    {
      "cell_type": "markdown",
      "metadata": {
        "id": "SZHf9qXLYH3E"
      },
      "source": [
        "# Code your own neuron and neural net\n",
        "The parts of code that look like\n",
        "```python\n",
        "pass  # ⬅️✏️\n",
        "```\n",
        "need to be filled in before moving to the next cell.\n",
        "\n",
        "Check out the slides and / or corresponding video lecture for more instructions."
      ]
    },
    {
      "cell_type": "code",
      "metadata": {
        "lines_to_next_cell": 1,
        "id": "Tqmj6mWcYH3T"
      },
      "source": [
        "# Define two vectors (lists): input my_x, weights my_w\n",
        "my_x = [0, 1, 1]\n",
        "my_w = [-10, 10, 5]"
      ],
      "execution_count": null,
      "outputs": []
    },
    {
      "cell_type": "code",
      "metadata": {
        "id": "fBdjB0L4YH3U"
      },
      "source": [
        "# Multiply two lists element wise\n",
        "def mul(a, b):\n",
        "    \"\"\"\n",
        "    return a list c, same length as a, element c[i] = a[i] * b[i]\n",
        "    \"len(list)\" and \"[0] * n\" may be useful\n",
        "    \"\"\"\n",
        "    pass  # ⬅️✏️"
      ],
      "execution_count": null,
      "outputs": []
    },
    {
      "cell_type": "markdown",
      "metadata": {
        "id": "rp0-xtWCYH3V"
      },
      "source": [
        "---"
      ]
    },
    {
      "cell_type": "code",
      "metadata": {
        "id": "g1zmJm5UYH3W"
      },
      "source": [
        "# Test mul() function\n",
        "mul(my_x, my_w)"
      ],
      "execution_count": null,
      "outputs": []
    },
    {
      "cell_type": "code",
      "metadata": {
        "lines_to_next_cell": 1,
        "id": "wxgMfb70YH3W"
      },
      "source": [
        "# Define a scalar: bias b\n",
        "my_b = -5"
      ],
      "execution_count": null,
      "outputs": []
    },
    {
      "cell_type": "code",
      "metadata": {
        "id": "a688x1_XYH3X"
      },
      "source": [
        "# Neuron linear (internal) potential\n",
        "def linear_neuron(x, weights, bias):\n",
        "    \"\"\"\n",
        "    return a scalar value representing a scalar neuron\n",
        "    \"sum(list)\" computes the sum of the elements in a list\n",
        "    \"\"\"\n",
        "    pass  # ⬅️✏️"
      ],
      "execution_count": null,
      "outputs": []
    },
    {
      "cell_type": "markdown",
      "metadata": {
        "id": "c30GxD5jYH3Y"
      },
      "source": [
        "---"
      ]
    },
    {
      "cell_type": "code",
      "metadata": {
        "id": "RMUuLbBpYH3Y"
      },
      "source": [
        "# Test linear_neuron() function\n",
        "linear_neuron(my_x, my_w, my_b)"
      ],
      "execution_count": null,
      "outputs": []
    },
    {
      "cell_type": "code",
      "metadata": {
        "lines_to_next_cell": 1,
        "id": "n25PPR97YH3Z"
      },
      "source": [
        "# Import exp() function (safe on lists)\n",
        "from numpy import exp"
      ],
      "execution_count": null,
      "outputs": []
    },
    {
      "cell_type": "code",
      "metadata": {
        "id": "e2puSuarYH3Z"
      },
      "source": [
        "# Logistic sigmoid\n",
        "def sigmoid(z):\n",
        "    \"\"\"\n",
        "    return the logistic sigmoid (use exp())\n",
        "    \"\"\"\n",
        "    pass  # ⬅️✏️"
      ],
      "execution_count": null,
      "outputs": []
    },
    {
      "cell_type": "markdown",
      "metadata": {
        "id": "HMphoIwwYH3a"
      },
      "source": [
        "---"
      ]
    },
    {
      "cell_type": "code",
      "metadata": {
        "id": "doBwNP0MYH3a"
      },
      "source": [
        "# Try out σ() for different z values\n",
        "for z in (-5, 0, 5): print(sigmoid(z))"
      ],
      "execution_count": null,
      "outputs": []
    },
    {
      "cell_type": "code",
      "metadata": {
        "id": "JVoI637SYH3b"
      },
      "source": [
        "# Import some plotting stuff to graph sigmoid()\n",
        "from numpy import linspace\n",
        "from matplotlib.pyplot import plot, axhline, axvline, grid, style\n",
        "style.use('dark_background')"
      ],
      "execution_count": null,
      "outputs": []
    },
    {
      "cell_type": "code",
      "metadata": {
        "id": "zh-GQy1dYH3c"
      },
      "source": [
        "# Get a pair of axis and grid lines centred in (0, 0)\n",
        "axhline(c='.2'); axvline(color='.2')\n",
        "grid(c='.1', ls='--')\n",
        "\n",
        "# Plot across a span of numbers\n",
        "z = linspace(-7.5, 7.5)\n",
        "plot(z, sigmoid(z));"
      ],
      "execution_count": null,
      "outputs": []
    },
    {
      "cell_type": "code",
      "metadata": {
        "id": "IWBL5MqoYH3c"
      },
      "source": [
        "# Full neuron function\n",
        "def neuron(x, weights, bias):\n",
        "    \"\"\"\n",
        "    Return a classical neuron output (reuse code above)\n",
        "    \"\"\"\n",
        "    pass  # ⬅️✏️"
      ],
      "execution_count": null,
      "outputs": []
    },
    {
      "cell_type": "markdown",
      "metadata": {
        "id": "SkMLauKHYH3d"
      },
      "source": [
        "---"
      ]
    },
    {
      "cell_type": "code",
      "metadata": {
        "id": "gsuNOEYHYH3d"
      },
      "source": [
        "# Test neuron() function\n",
        "neuron(my_x, my_w, my_b)"
      ],
      "execution_count": null,
      "outputs": []
    },
    {
      "cell_type": "code",
      "metadata": {
        "lines_to_next_cell": 1,
        "id": "lUN970XKYH3e"
      },
      "source": [
        "# Package OR neuron weights and bias\n",
        "def or_neuron(x):\n",
        "    \"\"\"\n",
        "    Return x1 OR x2 (x1 + x2)\n",
        "    \"\"\"\n",
        "    pass  # ⬅️✏️"
      ],
      "execution_count": null,
      "outputs": []
    },
    {
      "cell_type": "markdown",
      "metadata": {
        "id": "uHuMEDinYH3e"
      },
      "source": [
        "---"
      ]
    },
    {
      "cell_type": "code",
      "metadata": {
        "id": "EZbg2AKeYH3e"
      },
      "source": [
        "# Defina a collection of inputs to test OR and AND\n",
        "my_x_collection = [\n",
        "    [0, 0],\n",
        "    [0, 1],\n",
        "    [1, 0],\n",
        "    [1, 1],\n",
        "]"
      ],
      "execution_count": null,
      "outputs": []
    },
    {
      "cell_type": "code",
      "metadata": {
        "lines_to_next_cell": 1,
        "id": "Bh4pODLeYH3f"
      },
      "source": [
        "print('Checking OR neuron output')\n",
        "for my_x in my_x_collection:\n",
        "    print(my_x, f'{or_neuron(my_x):.3f}')"
      ],
      "execution_count": null,
      "outputs": []
    },
    {
      "cell_type": "code",
      "metadata": {
        "lines_to_next_cell": 1,
        "id": "ccZacKnSYH3g"
      },
      "source": [
        "# Package AND neuron weights and bias\n",
        "def and_neuron(x):\n",
        "    \"\"\"\n",
        "    Return x1 AND x2 (x1 * x2)\n",
        "    \"\"\"\n",
        "    pass  # ⬅️✏️"
      ],
      "execution_count": null,
      "outputs": []
    },
    {
      "cell_type": "markdown",
      "metadata": {
        "id": "v_crh5OPYH3h"
      },
      "source": [
        "---"
      ]
    },
    {
      "cell_type": "code",
      "metadata": {
        "lines_to_next_cell": 1,
        "id": "jPx_KuriYH3h"
      },
      "source": [
        "print('Checking AND neuron output')\n",
        "for my_x in my_x_collection:\n",
        "    print(my_x, f'{and_neuron(my_x):.3f}')"
      ],
      "execution_count": null,
      "outputs": []
    },
    {
      "cell_type": "code",
      "metadata": {
        "lines_to_next_cell": 1,
        "id": "xl-We3A7YH3i"
      },
      "source": [
        "# Package NOT neuron weight and bias\n",
        "def not_neuron(x):\n",
        "    \"\"\"\n",
        "    Return NOT x1 (x1_)\n",
        "    \"\"\"\n",
        "    pass  # ⬅️✏️"
      ],
      "execution_count": null,
      "outputs": []
    },
    {
      "cell_type": "markdown",
      "metadata": {
        "id": "lu_en-QXYH3i"
      },
      "source": [
        "---"
      ]
    },
    {
      "cell_type": "code",
      "metadata": {
        "lines_to_next_cell": 1,
        "id": "jNNTPuKoYH3j"
      },
      "source": [
        "print('Checking NOT neuron output')\n",
        "for my_x in [[0], [1]]:\n",
        "    print(my_x, f'{not_neuron(my_x):.3f}')"
      ],
      "execution_count": null,
      "outputs": []
    },
    {
      "cell_type": "markdown",
      "metadata": {
        "id": "eKORUg73YH3j"
      },
      "source": [
        "![X-OR](https://github.com/Atcold/pytorch-Deep-Learning/blob/master/res/x-or_circuit.png?raw=1)"
      ]
    },
    {
      "cell_type": "code",
      "metadata": {
        "id": "UXQJuodbYH3j"
      },
      "source": [
        "# Combine OR, AND, and NOT into a XOR neuron\n",
        "def xor_neuron(x):\n",
        "    \"\"\"\n",
        "    Return x1_ * x2 + x1 * x2_\n",
        "    \"\"\"\n",
        "    pass  # ⬅️✏️"
      ],
      "execution_count": null,
      "outputs": []
    },
    {
      "cell_type": "markdown",
      "metadata": {
        "id": "3yBr2-waYH3k"
      },
      "source": [
        "---"
      ]
    },
    {
      "cell_type": "code",
      "metadata": {
        "id": "92vhbBXGYH3k"
      },
      "source": [
        "print('Checking XOR neuron output')\n",
        "for my_x in my_x_collection:\n",
        "    print(my_x, f'{xor_neuron(my_x):.3f}')"
      ],
      "execution_count": null,
      "outputs": []
    },
    {
      "cell_type": "markdown",
      "metadata": {
        "id": "atuMKyw8YH3l"
      },
      "source": [
        "![Half-adder](https://github.com/Atcold/pytorch-Deep-Learning/blob/master/res/half-adder_circuit.png?raw=1)"
      ]
    },
    {
      "cell_type": "code",
      "metadata": {
        "id": "RAY9FPYLYH3l"
      },
      "source": [
        "# Combine a XOR and an AND into a half-adder\n",
        "# ⬅️✏️"
      ],
      "execution_count": null,
      "outputs": []
    },
    {
      "cell_type": "markdown",
      "metadata": {
        "id": "SOf9Xe5dYH3l"
      },
      "source": [
        "---"
      ]
    },
    {
      "cell_type": "markdown",
      "metadata": {
        "id": "eWer6XyvYH3m"
      },
      "source": [
        "![Adder](https://github.com/Atcold/pytorch-Deep-Learning/blob/master/res/adder_circuit.png?raw=1)"
      ]
    },
    {
      "cell_type": "code",
      "metadata": {
        "id": "3fSVfofLYH3m"
      },
      "source": [
        "# Combine two half-adders and an OR into a (full) adder\n",
        "# ⬅️✏️"
      ],
      "execution_count": null,
      "outputs": []
    },
    {
      "cell_type": "markdown",
      "metadata": {
        "id": "r-dOXPGXYH3m"
      },
      "source": [
        "---"
      ]
    }
  ]
}