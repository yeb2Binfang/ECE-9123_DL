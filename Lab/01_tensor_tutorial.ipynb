{
  "nbformat": 4,
  "nbformat_minor": 0,
  "metadata": {
    "kernelspec": {
      "display_name": "Python [conda env:dl-minicourse] *",
      "language": "python",
      "name": "conda-env-dl-minicourse-py"
    },
    "language_info": {
      "codemirror_mode": {
        "name": "ipython",
        "version": 3
      },
      "file_extension": ".py",
      "mimetype": "text/x-python",
      "name": "python",
      "nbconvert_exporter": "python",
      "pygments_lexer": "ipython3",
      "version": "3.7.3"
    },
    "colab": {
      "name": "01-tensor_tutorial.ipynb",
      "provenance": []
    }
  },
  "cells": [
    {
      "cell_type": "markdown",
      "metadata": {
        "id": "e3m6Zrgtif4a"
      },
      "source": [
        "\n",
        "# What is PyTorch?\n",
        "\n",
        "It’s a Python based scientific computing package targeted at two sets of audiences:\n",
        "\n",
        "-  Tensorial library that uses the power of GPUs\n",
        "-  A deep learning research platform that provides maximum flexibility and speed\n",
        "\n",
        "## Import the library"
      ]
    },
    {
      "cell_type": "code",
      "metadata": {
        "id": "mIURKoGXif4c"
      },
      "source": [
        "import torch  # <Ctrl> / <Shift> + <Return>"
      ],
      "execution_count": null,
      "outputs": []
    },
    {
      "cell_type": "markdown",
      "metadata": {
        "id": "Xw7gitUQif4d"
      },
      "source": [
        "## Getting help in Jupyter"
      ]
    },
    {
      "cell_type": "code",
      "metadata": {
        "id": "fiildXeOif4d"
      },
      "source": [
        "torch.sq  # <Tab>"
      ],
      "execution_count": null,
      "outputs": []
    },
    {
      "cell_type": "code",
      "metadata": {
        "id": "MycU6rtXif4d"
      },
      "source": [
        "# What about all `*Tensor`s?\n",
        "# Press <esc> to get out of help\n",
        "torch.*Tensor?"
      ],
      "execution_count": null,
      "outputs": []
    },
    {
      "cell_type": "code",
      "metadata": {
        "id": "VYhYhJu8if4e"
      },
      "source": [
        "torch.nn.Module()  # <Shift>+<Tab>"
      ],
      "execution_count": null,
      "outputs": []
    },
    {
      "cell_type": "code",
      "metadata": {
        "id": "pxRqXssyif4e"
      },
      "source": [
        "# Annotate your functions / classes!\n",
        "torch.nn.Module?"
      ],
      "execution_count": null,
      "outputs": []
    },
    {
      "cell_type": "code",
      "metadata": {
        "id": "xt73oHn-if4e"
      },
      "source": [
        "torch.nn.Module??"
      ],
      "execution_count": null,
      "outputs": []
    },
    {
      "cell_type": "markdown",
      "metadata": {
        "id": "45aq1uJWif4f"
      },
      "source": [
        "## Dropping to Bash: magic!"
      ]
    },
    {
      "cell_type": "code",
      "metadata": {
        "scrolled": true,
        "id": "H58IRTRfif4f"
      },
      "source": [
        "# List all the files in the current directory\n",
        "!ls -lh"
      ],
      "execution_count": null,
      "outputs": []
    },
    {
      "cell_type": "code",
      "metadata": {
        "id": "YqVIvY-Qif4f"
      },
      "source": [
        "%%bash\n",
        "# List all the files but with cleaner outputs for readability\n",
        "for f in $(ls *.*); do\n",
        "    echo $(wc -l $f)\n",
        "done"
      ],
      "execution_count": null,
      "outputs": []
    },
    {
      "cell_type": "code",
      "metadata": {
        "id": "rq2Xg1d6if4f"
      },
      "source": [
        "# Getting some general help\n",
        "%magic"
      ],
      "execution_count": null,
      "outputs": []
    },
    {
      "cell_type": "markdown",
      "metadata": {
        "id": "_HwU1MK0if4g"
      },
      "source": [
        "## Python native data types\n",
        "\n",
        "Python has many native datatypes. Here are the important ones:\n",
        "\n",
        " - **Booleans** are either `True` or `False`.\n",
        " - **Numbers** can be integers (1 and 2), floats (1.1 and 1.2), fractions (1/2 and 2/3), or even complex numbers.\n",
        " - **Strings** are sequences of Unicode characters, e.g. an html document.\n",
        " - **Lists** are ordered sequences of values.\n",
        " - **Tuples** are ordered, immutable sequences of values.\n",
        " - **Sets** are unordered bags of values.\n",
        " - **Dictionaries** are unordered bags of key-value pairs.\n",
        " \n",
        "See [here](http://www.diveintopython3.net/native-datatypes.html) for a complete overview.\n",
        "\n",
        "### More resources\n",
        "\n",
        " 1. Brief Python introduction [here](https://learnxinyminutes.com/docs/python3/).\n",
        " 2. Full Python tutorial [here](https://docs.python.org/3/tutorial/).\n",
        " 3. A Whirlwind Tour of Python [here](https://github.com/jakevdp/WhirlwindTourOfPython).\n",
        " 4. Python Data Science Handbook [here](https://github.com/jakevdp/PythonDataScienceHandbook)."
      ]
    },
    {
      "cell_type": "markdown",
      "metadata": {
        "id": "HJUIkcd6if4g"
      },
      "source": [
        "## Torch!"
      ]
    },
    {
      "cell_type": "code",
      "metadata": {
        "id": "ZLsCAYQ7if4g"
      },
      "source": [
        "# Generate a tensor of size 2x3x4\n",
        "t = torch.Tensor(2, 3, 4)\n",
        "type(t)"
      ],
      "execution_count": null,
      "outputs": []
    },
    {
      "cell_type": "code",
      "metadata": {
        "id": "WMOTCy7Yif4g"
      },
      "source": [
        "# Get the size of the tensor\n",
        "t.size()"
      ],
      "execution_count": null,
      "outputs": []
    },
    {
      "cell_type": "code",
      "metadata": {
        "id": "gU3T_X1sif4h"
      },
      "source": [
        "# t.size() is a classic tuple =>\n",
        "print('t size:', ' \\u00D7 '.join(map(str, t.size())))"
      ],
      "execution_count": null,
      "outputs": []
    },
    {
      "cell_type": "code",
      "metadata": {
        "id": "iyOXHaofif4h"
      },
      "source": [
        "# prints dimensional space and sub-dimensions\n",
        "print(f'point in a {t.numel()} dimensional space')\n",
        "print(f'organised in {t.dim()} sub-dimensions')"
      ],
      "execution_count": null,
      "outputs": []
    },
    {
      "cell_type": "code",
      "metadata": {
        "id": "vWLQNOp5if4h"
      },
      "source": [
        "t"
      ],
      "execution_count": null,
      "outputs": []
    },
    {
      "cell_type": "code",
      "metadata": {
        "id": "lGEbicYsif4h"
      },
      "source": [
        "# Mind the underscore!\n",
        "# Any operation that mutates a tensor in-place is post-fixed with an _.\n",
        "# For example: x.copy_(y), x.t_(), x.random_(n) will change x.\n",
        "t.random_(10)"
      ],
      "execution_count": null,
      "outputs": []
    },
    {
      "cell_type": "code",
      "metadata": {
        "id": "22LhYbGPif4h"
      },
      "source": [
        "t"
      ],
      "execution_count": null,
      "outputs": []
    },
    {
      "cell_type": "code",
      "metadata": {
        "id": "CR7Axyrpif4i"
      },
      "source": [
        "# This resizes the tensor permanently \n",
        "r = torch.Tensor(t)\n",
        "r.resize_(3, 8)\n",
        "r"
      ],
      "execution_count": null,
      "outputs": []
    },
    {
      "cell_type": "code",
      "metadata": {
        "id": "VFXRvU34if4i"
      },
      "source": [
        "# As you can see zero_ would replace r with 0's which was originally filled with integers\n",
        "r.zero_()"
      ],
      "execution_count": null,
      "outputs": []
    },
    {
      "cell_type": "code",
      "metadata": {
        "id": "uEXp_IZlif4i"
      },
      "source": [
        "t"
      ],
      "execution_count": null,
      "outputs": []
    },
    {
      "cell_type": "code",
      "metadata": {
        "id": "-tjVP82Dif4j"
      },
      "source": [
        "# This *is* important, sigh...\n",
        "s = r.clone()"
      ],
      "execution_count": null,
      "outputs": []
    },
    {
      "cell_type": "code",
      "metadata": {
        "id": "kaK8_KSXif4j"
      },
      "source": [
        "# In-place fill of 1's\n",
        "s.fill_(1)\n",
        "s"
      ],
      "execution_count": null,
      "outputs": []
    },
    {
      "cell_type": "code",
      "metadata": {
        "id": "1Il0KmGrif4j"
      },
      "source": [
        "# Because we cloned r, even though we did an in-place operation, this doesn't affect r\n",
        "r"
      ],
      "execution_count": null,
      "outputs": []
    },
    {
      "cell_type": "markdown",
      "metadata": {
        "id": "hkVQvAp-if4j"
      },
      "source": [
        "## Vectors (1D Tensors)"
      ]
    },
    {
      "cell_type": "code",
      "metadata": {
        "id": "lMVgyuLdif4j"
      },
      "source": [
        "# Creates a 1D tensor of integers 1 to 4\n",
        "v = torch.Tensor([1, 2, 3, 4])\n",
        "v"
      ],
      "execution_count": null,
      "outputs": []
    },
    {
      "cell_type": "code",
      "metadata": {
        "id": "VDV1NVNsif4j"
      },
      "source": [
        "# Print number of dimensions (1D) and size of tensor\n",
        "print(f'dim: {v.dim()}, size: {v.size()[0]}')"
      ],
      "execution_count": null,
      "outputs": []
    },
    {
      "cell_type": "code",
      "metadata": {
        "id": "nA3OMpD4if4k"
      },
      "source": [
        "w = torch.Tensor([1, 0, 2, 0])\n",
        "w"
      ],
      "execution_count": null,
      "outputs": []
    },
    {
      "cell_type": "code",
      "metadata": {
        "id": "9IcR50mwif4k"
      },
      "source": [
        "# Element-wise multiplication\n",
        "v * w"
      ],
      "execution_count": null,
      "outputs": []
    },
    {
      "cell_type": "code",
      "metadata": {
        "id": "CUxutdwNif4k"
      },
      "source": [
        "# Scalar product: 1*1 + 2*0 + 3*2 + 4*0\n",
        "v @ w"
      ],
      "execution_count": null,
      "outputs": []
    },
    {
      "cell_type": "code",
      "metadata": {
        "id": "14zoWSSyif4k"
      },
      "source": [
        "# In-place replacement of random number from 0 to 10\n",
        "x = torch.Tensor(5).random_(10)\n",
        "x"
      ],
      "execution_count": null,
      "outputs": []
    },
    {
      "cell_type": "code",
      "metadata": {
        "id": "zIrUhxoHif4k"
      },
      "source": [
        "print(f'first: {x[0]}, last: {x[-1]}')"
      ],
      "execution_count": null,
      "outputs": []
    },
    {
      "cell_type": "code",
      "metadata": {
        "id": "YFFRchrwif4k"
      },
      "source": [
        "# Extract sub-Tensor [from:to)\n",
        "x[1:2 + 1]"
      ],
      "execution_count": null,
      "outputs": []
    },
    {
      "cell_type": "code",
      "metadata": {
        "id": "zQwPBH6sif4l"
      },
      "source": [
        "v"
      ],
      "execution_count": null,
      "outputs": []
    },
    {
      "cell_type": "code",
      "metadata": {
        "id": "rRBhiw3Hif4l"
      },
      "source": [
        "# Create a tensor with integers ranging from 1 to 5, excluding 5\n",
        "v = torch.arange(1, 4 + 1)\n",
        "v"
      ],
      "execution_count": null,
      "outputs": []
    },
    {
      "cell_type": "code",
      "metadata": {
        "id": "SNsiqJrQif4l"
      },
      "source": [
        "# Square all elements in the tensor\n",
        "print(v.pow(2), v)"
      ],
      "execution_count": null,
      "outputs": []
    },
    {
      "cell_type": "markdown",
      "metadata": {
        "id": "WDPLY2M5if4l"
      },
      "source": [
        "## Matrices (2D Tensors)"
      ]
    },
    {
      "cell_type": "code",
      "metadata": {
        "id": "apYCHy9wif4l"
      },
      "source": [
        "# Create a 2x4 tensor\n",
        "m = torch.Tensor([[2, 5, 3, 7],\n",
        "                  [4, 2, 1, 9]])\n",
        "m"
      ],
      "execution_count": null,
      "outputs": []
    },
    {
      "cell_type": "code",
      "metadata": {
        "id": "phAYqNn2if4l"
      },
      "source": [
        "m.dim()"
      ],
      "execution_count": null,
      "outputs": []
    },
    {
      "cell_type": "code",
      "metadata": {
        "id": "RVM8CfFAif4m"
      },
      "source": [
        "print(m.size(0), m.size(1), m.size(), sep=' -- ')"
      ],
      "execution_count": null,
      "outputs": []
    },
    {
      "cell_type": "code",
      "metadata": {
        "id": "XAcNVNQaif4m"
      },
      "source": [
        "# Returns the total number of elements, hence num-el (number of elements)\n",
        "m.numel()"
      ],
      "execution_count": null,
      "outputs": []
    },
    {
      "cell_type": "code",
      "metadata": {
        "id": "Yv17GWJkif4m"
      },
      "source": [
        "# Indexing row 0, column 2 (0-indexed)\n",
        "m[0][2]"
      ],
      "execution_count": null,
      "outputs": []
    },
    {
      "cell_type": "code",
      "metadata": {
        "id": "0ztMy5fOif4m"
      },
      "source": [
        "# Indexing row 0, column 2 (0-indexed)\n",
        "m[0, 2]"
      ],
      "execution_count": null,
      "outputs": []
    },
    {
      "cell_type": "code",
      "metadata": {
        "id": "vgRnNC-8if4m"
      },
      "source": [
        "# Indexing column 1, all rows (returns size 2)\n",
        "m[:, 1]"
      ],
      "execution_count": null,
      "outputs": []
    },
    {
      "cell_type": "code",
      "metadata": {
        "id": "6NzzVZU1if4m"
      },
      "source": [
        "# Indexing column 1, all rows (returns size 2x2)\n",
        "m[:, [1]]"
      ],
      "execution_count": null,
      "outputs": []
    },
    {
      "cell_type": "code",
      "metadata": {
        "id": "U3KXbw1Uif4n"
      },
      "source": [
        "# Indexes row 0, all columns (returns 1x4)\n",
        "m[[0], :]"
      ],
      "execution_count": null,
      "outputs": []
    },
    {
      "cell_type": "code",
      "metadata": {
        "id": "0n807cPzif4n"
      },
      "source": [
        "# Indexes row 0, all columns (returns size 4)\n",
        "m[0, :]"
      ],
      "execution_count": null,
      "outputs": []
    },
    {
      "cell_type": "code",
      "metadata": {
        "id": "r4PO0CAMif4n"
      },
      "source": [
        "# Create tensor of numbers from 1 to 5 (excluding 5)\n",
        "v = torch.arange(1., 4 + 1)\n",
        "v"
      ],
      "execution_count": null,
      "outputs": []
    },
    {
      "cell_type": "code",
      "metadata": {
        "id": "N5fB44HBif4n"
      },
      "source": [
        "m"
      ],
      "execution_count": null,
      "outputs": []
    },
    {
      "cell_type": "code",
      "metadata": {
        "id": "gncG-Xk2if4n"
      },
      "source": [
        "# Scalar product\n",
        "m @ v"
      ],
      "execution_count": null,
      "outputs": []
    },
    {
      "cell_type": "code",
      "metadata": {
        "id": "H7JM-OKmif4n"
      },
      "source": [
        "# Calculated by 1*2 + 2*5 + 3*3 + 4*7\n",
        "m[[0], :] @ v"
      ],
      "execution_count": null,
      "outputs": []
    },
    {
      "cell_type": "code",
      "metadata": {
        "id": "BMgCLwgCif4o"
      },
      "source": [
        "# Calculated by \n",
        "m[[1], :] @ v"
      ],
      "execution_count": null,
      "outputs": []
    },
    {
      "cell_type": "code",
      "metadata": {
        "id": "tPWOjdk2if4o"
      },
      "source": [
        "# Add a random tensor of size 2x4 to m\n",
        "m + torch.rand(2, 4)"
      ],
      "execution_count": null,
      "outputs": []
    },
    {
      "cell_type": "code",
      "metadata": {
        "id": "Lnw-NE2_if4o"
      },
      "source": [
        "# Subtract a random tensor of size 2x4 to m\n",
        "m - torch.rand(2, 4)"
      ],
      "execution_count": null,
      "outputs": []
    },
    {
      "cell_type": "code",
      "metadata": {
        "id": "aPWhhXTKif4o"
      },
      "source": [
        "# Multiply a random tensor of size 2x4 to m\n",
        "m * torch.rand(2, 4)"
      ],
      "execution_count": null,
      "outputs": []
    },
    {
      "cell_type": "code",
      "metadata": {
        "id": "X_LgB1o2if4o"
      },
      "source": [
        "# Divide m by a random tensor of size 2x4\n",
        "m / torch.rand(2, 4)"
      ],
      "execution_count": null,
      "outputs": []
    },
    {
      "cell_type": "code",
      "metadata": {
        "id": "gP51CLiCif4p"
      },
      "source": [
        "m.size()"
      ],
      "execution_count": null,
      "outputs": []
    },
    {
      "cell_type": "code",
      "metadata": {
        "id": "qL1NCLh6if4p"
      },
      "source": [
        "# Transpose tensor m, which is essentially 2x4 to 4x2\n",
        "m.t()"
      ],
      "execution_count": null,
      "outputs": []
    },
    {
      "cell_type": "code",
      "metadata": {
        "id": "B0AKFh4sif4p"
      },
      "source": [
        "# Same as\n",
        "m.transpose(0, 1)"
      ],
      "execution_count": null,
      "outputs": []
    },
    {
      "cell_type": "markdown",
      "metadata": {
        "id": "796a589jif4p"
      },
      "source": [
        "## Constructors"
      ]
    },
    {
      "cell_type": "code",
      "metadata": {
        "id": "azsrsw7Lif4p"
      },
      "source": [
        "# Create tensor from 3 to 8, with each having a space of 1\n",
        "torch.arange(3., 8 + 1)"
      ],
      "execution_count": null,
      "outputs": []
    },
    {
      "cell_type": "code",
      "metadata": {
        "id": "cQzrm6jgif4p"
      },
      "source": [
        "# Create tensor from 5.7 to -2.1 with each having a space of -3\n",
        "torch.arange(5.7, -2.1, -3)"
      ],
      "execution_count": null,
      "outputs": []
    },
    {
      "cell_type": "code",
      "metadata": {
        "id": "cil3Cys2if4q"
      },
      "source": [
        "# returns a 1D tensor of steps equally spaced points between start=3, end=8 and steps=20\n",
        "torch.linspace(3, 8, 20).view(1, -1)"
      ],
      "execution_count": null,
      "outputs": []
    },
    {
      "cell_type": "code",
      "metadata": {
        "id": "uICcI98Dif4q"
      },
      "source": [
        "# Create a tensor filled with 0's\n",
        "torch.zeros(3, 5)"
      ],
      "execution_count": null,
      "outputs": []
    },
    {
      "cell_type": "code",
      "metadata": {
        "id": "3FoVcvfiif4q"
      },
      "source": [
        "# Create a tensor filled with 1's\n",
        "torch.ones(3, 2, 5)"
      ],
      "execution_count": null,
      "outputs": []
    },
    {
      "cell_type": "code",
      "metadata": {
        "id": "15DFtDq-if4q"
      },
      "source": [
        "# Create a tensor with the diagonal filled with 1\n",
        "torch.eye(3)"
      ],
      "execution_count": null,
      "outputs": []
    },
    {
      "cell_type": "code",
      "metadata": {
        "id": "peRmVWDvif4q"
      },
      "source": [
        "# Set default plots\n",
        "from res.plot_lib import set_default\n",
        "from matplotlib import pyplot as plt\n",
        "set_default()"
      ],
      "execution_count": null,
      "outputs": []
    },
    {
      "cell_type": "code",
      "metadata": {
        "id": "Y_N2l5kYif4q"
      },
      "source": [
        "# Numpy bridge!\n",
        "plt.hist(torch.randn(1000).numpy(), 100);"
      ],
      "execution_count": null,
      "outputs": []
    },
    {
      "cell_type": "code",
      "metadata": {
        "id": "_cAsKXV7if4r"
      },
      "source": [
        "plt.hist(torch.randn(10**6).numpy(), 100);  # how much does this chart weight?\n",
        "# use rasterized=True for SVG/EPS/PDF!"
      ],
      "execution_count": null,
      "outputs": []
    },
    {
      "cell_type": "code",
      "metadata": {
        "id": "1c2SD7uYif4r"
      },
      "source": [
        "plt.hist(torch.rand(10**6).numpy(), 100);"
      ],
      "execution_count": null,
      "outputs": []
    },
    {
      "cell_type": "markdown",
      "metadata": {
        "id": "IbnFtWNcif4r"
      },
      "source": [
        "## Casting"
      ]
    },
    {
      "cell_type": "code",
      "metadata": {
        "id": "28YUa0GIif4r"
      },
      "source": [
        "# Helper to get what kind of tensor types\n",
        "torch.*Tensor?"
      ],
      "execution_count": null,
      "outputs": []
    },
    {
      "cell_type": "code",
      "metadata": {
        "id": "noK2ENw-if4r"
      },
      "source": [
        "m"
      ],
      "execution_count": null,
      "outputs": []
    },
    {
      "cell_type": "code",
      "metadata": {
        "id": "HTWqeNrdif4r"
      },
      "source": [
        "# This is basically a 64 bit float tensor\n",
        "m_double = m.double()\n",
        "m_double"
      ],
      "execution_count": null,
      "outputs": []
    },
    {
      "cell_type": "code",
      "metadata": {
        "id": "iYgMR3N4if4s"
      },
      "source": [
        "# This creates a tensor of type int8\n",
        "m_byte = m.byte()\n",
        "m_byte"
      ],
      "execution_count": null,
      "outputs": []
    },
    {
      "cell_type": "code",
      "metadata": {
        "id": "8DbkFIJhif4s"
      },
      "source": [
        "# Move your tensor to GPU device 0 if there is one (first GPU in the system)\n",
        "device = torch.device(\"cuda:0\" if torch.cuda.is_available() else \"cpu\")\n",
        "m.to(device)"
      ],
      "execution_count": null,
      "outputs": []
    },
    {
      "cell_type": "code",
      "metadata": {
        "id": "4PZ1FNdQif4s"
      },
      "source": [
        "# Converts tensor to numpy array\n",
        "m_np = m.numpy()\n",
        "m_np"
      ],
      "execution_count": null,
      "outputs": []
    },
    {
      "cell_type": "code",
      "metadata": {
        "id": "tZurJ9iTif4s"
      },
      "source": [
        "# In-place fill of column 0 and row 0 with value -1\n",
        "m_np[0, 0] = -1\n",
        "m_np"
      ],
      "execution_count": null,
      "outputs": []
    },
    {
      "cell_type": "code",
      "metadata": {
        "id": "yynhCZO6if4s"
      },
      "source": [
        "m"
      ],
      "execution_count": null,
      "outputs": []
    },
    {
      "cell_type": "code",
      "metadata": {
        "id": "3YIivxgvif4s"
      },
      "source": [
        "# Create a tensor of integers ranging from 0 to 4\n",
        "import numpy as np\n",
        "n_np = np.arange(5)\n",
        "n = torch.from_numpy(n_np)\n",
        "print(n_np, n)"
      ],
      "execution_count": null,
      "outputs": []
    },
    {
      "cell_type": "code",
      "metadata": {
        "id": "LZf6ezGtif4t"
      },
      "source": [
        "# In-place multiplication of all elements by 2 for tensor n\n",
        "# Because n is essentiall n_np, not a clone, this affects n_np\n",
        "n.mul_(2)\n",
        "n_np"
      ],
      "execution_count": null,
      "outputs": []
    },
    {
      "cell_type": "markdown",
      "metadata": {
        "id": "3VLq9Bijif4t"
      },
      "source": [
        "## More fun"
      ]
    },
    {
      "cell_type": "code",
      "metadata": {
        "id": "VXY1NNSeif4t"
      },
      "source": [
        "# Creates two tensor of size 1x4\n",
        "a = torch.Tensor([[1, 2, 3, 4]])\n",
        "b = torch.Tensor([[5, 6, 7, 8]])\n",
        "print(a.size(), b)"
      ],
      "execution_count": null,
      "outputs": []
    },
    {
      "cell_type": "code",
      "metadata": {
        "id": "KDj1WUuUif4t"
      },
      "source": [
        "# Concatenate on axis 0, so you get 2x4\n",
        "torch.cat((a, b), 0)"
      ],
      "execution_count": null,
      "outputs": []
    },
    {
      "cell_type": "code",
      "metadata": {
        "id": "FBxzZwjiif4t"
      },
      "source": [
        "# Concatenate on axis 1, so you get 1x8\n",
        "torch.cat((a, b), 1)"
      ],
      "execution_count": null,
      "outputs": []
    },
    {
      "cell_type": "markdown",
      "metadata": {
        "id": "5DtLts0Qif4u"
      },
      "source": [
        "## Much more\n",
        "\n",
        "There's definitely much more, but this was the basics about `Tensor`s fun.\n",
        "\n",
        "*Torch* full API should be read at least once.\n",
        "Hence, go [here](https://pytorch.org/docs/stable/index.html).\n",
        "You'll find 100+ `Tensor` operations, including transposing, indexing, slicing, mathematical operations, linear algebra, random numbers, etc are described."
      ]
    }
  ]
}