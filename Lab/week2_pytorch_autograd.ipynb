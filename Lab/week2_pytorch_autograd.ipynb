{
  "nbformat": 4,
  "nbformat_minor": 0,
  "metadata": {
    "accelerator": "GPU",
    "colab": {
      "name": "week2-pytorch-autograd.ipynb",
      "provenance": [],
      "collapsed_sections": [],
      "include_colab_link": true
    },
    "kernelspec": {
      "display_name": "Python 3",
      "language": "python",
      "name": "python3"
    },
    "language_info": {
      "codemirror_mode": {
        "name": "ipython",
        "version": 3
      },
      "file_extension": ".py",
      "mimetype": "text/x-python",
      "name": "python",
      "nbconvert_exporter": "python",
      "pygments_lexer": "ipython3",
      "version": "3.7.6"
    },
    "widgets": {
      "application/vnd.jupyter.widget-state+json": {
        "788a8d9ca2494745805e28a80abd8b9e": {
          "model_module": "@jupyter-widgets/controls",
          "model_name": "HBoxModel",
          "state": {
            "_view_name": "HBoxView",
            "_dom_classes": [],
            "_model_name": "HBoxModel",
            "_view_module": "@jupyter-widgets/controls",
            "_model_module_version": "1.5.0",
            "_view_count": null,
            "_view_module_version": "1.5.0",
            "box_style": "",
            "layout": "IPY_MODEL_83f146ffb57d400497dc6604ec2e5ffe",
            "_model_module": "@jupyter-widgets/controls",
            "children": [
              "IPY_MODEL_37892a7514474230803b98a9cb9e8a31",
              "IPY_MODEL_21fa63423fe24dbb8a0841bd9a448ceb"
            ]
          }
        },
        "83f146ffb57d400497dc6604ec2e5ffe": {
          "model_module": "@jupyter-widgets/base",
          "model_name": "LayoutModel",
          "state": {
            "_view_name": "LayoutView",
            "grid_template_rows": null,
            "right": null,
            "justify_content": null,
            "_view_module": "@jupyter-widgets/base",
            "overflow": null,
            "_model_module_version": "1.2.0",
            "_view_count": null,
            "flex_flow": null,
            "width": null,
            "min_width": null,
            "border": null,
            "align_items": null,
            "bottom": null,
            "_model_module": "@jupyter-widgets/base",
            "top": null,
            "grid_column": null,
            "overflow_y": null,
            "overflow_x": null,
            "grid_auto_flow": null,
            "grid_area": null,
            "grid_template_columns": null,
            "flex": null,
            "_model_name": "LayoutModel",
            "justify_items": null,
            "grid_row": null,
            "max_height": null,
            "align_content": null,
            "visibility": null,
            "align_self": null,
            "height": null,
            "min_height": null,
            "padding": null,
            "grid_auto_rows": null,
            "grid_gap": null,
            "max_width": null,
            "order": null,
            "_view_module_version": "1.2.0",
            "grid_template_areas": null,
            "object_position": null,
            "object_fit": null,
            "grid_auto_columns": null,
            "margin": null,
            "display": null,
            "left": null
          }
        },
        "37892a7514474230803b98a9cb9e8a31": {
          "model_module": "@jupyter-widgets/controls",
          "model_name": "FloatProgressModel",
          "state": {
            "_view_name": "ProgressView",
            "style": "IPY_MODEL_246e5e1197f040aa98faecce06a18d1e",
            "_dom_classes": [],
            "description": "",
            "_model_name": "FloatProgressModel",
            "bar_style": "info",
            "max": 1,
            "_view_module": "@jupyter-widgets/controls",
            "_model_module_version": "1.5.0",
            "value": 1,
            "_view_count": null,
            "_view_module_version": "1.5.0",
            "orientation": "horizontal",
            "min": 0,
            "description_tooltip": null,
            "_model_module": "@jupyter-widgets/controls",
            "layout": "IPY_MODEL_5a9b2eed9e91498f9a5fe7508e092905"
          }
        },
        "21fa63423fe24dbb8a0841bd9a448ceb": {
          "model_module": "@jupyter-widgets/controls",
          "model_name": "HTMLModel",
          "state": {
            "_view_name": "HTMLView",
            "style": "IPY_MODEL_86f6167f0af84e12817ab6d1527336a7",
            "_dom_classes": [],
            "description": "",
            "_model_name": "HTMLModel",
            "placeholder": "​",
            "_view_module": "@jupyter-widgets/controls",
            "_model_module_version": "1.5.0",
            "value": " 26427392/? [00:20&lt;00:00, 6960967.34it/s]",
            "_view_count": null,
            "_view_module_version": "1.5.0",
            "description_tooltip": null,
            "_model_module": "@jupyter-widgets/controls",
            "layout": "IPY_MODEL_3b54f0dcd6414a4ab3a8607bbfb3e442"
          }
        },
        "246e5e1197f040aa98faecce06a18d1e": {
          "model_module": "@jupyter-widgets/controls",
          "model_name": "ProgressStyleModel",
          "state": {
            "_view_name": "StyleView",
            "_model_name": "ProgressStyleModel",
            "description_width": "initial",
            "_view_module": "@jupyter-widgets/base",
            "_model_module_version": "1.5.0",
            "_view_count": null,
            "_view_module_version": "1.2.0",
            "bar_color": null,
            "_model_module": "@jupyter-widgets/controls"
          }
        },
        "5a9b2eed9e91498f9a5fe7508e092905": {
          "model_module": "@jupyter-widgets/base",
          "model_name": "LayoutModel",
          "state": {
            "_view_name": "LayoutView",
            "grid_template_rows": null,
            "right": null,
            "justify_content": null,
            "_view_module": "@jupyter-widgets/base",
            "overflow": null,
            "_model_module_version": "1.2.0",
            "_view_count": null,
            "flex_flow": null,
            "width": null,
            "min_width": null,
            "border": null,
            "align_items": null,
            "bottom": null,
            "_model_module": "@jupyter-widgets/base",
            "top": null,
            "grid_column": null,
            "overflow_y": null,
            "overflow_x": null,
            "grid_auto_flow": null,
            "grid_area": null,
            "grid_template_columns": null,
            "flex": null,
            "_model_name": "LayoutModel",
            "justify_items": null,
            "grid_row": null,
            "max_height": null,
            "align_content": null,
            "visibility": null,
            "align_self": null,
            "height": null,
            "min_height": null,
            "padding": null,
            "grid_auto_rows": null,
            "grid_gap": null,
            "max_width": null,
            "order": null,
            "_view_module_version": "1.2.0",
            "grid_template_areas": null,
            "object_position": null,
            "object_fit": null,
            "grid_auto_columns": null,
            "margin": null,
            "display": null,
            "left": null
          }
        },
        "86f6167f0af84e12817ab6d1527336a7": {
          "model_module": "@jupyter-widgets/controls",
          "model_name": "DescriptionStyleModel",
          "state": {
            "_view_name": "StyleView",
            "_model_name": "DescriptionStyleModel",
            "description_width": "",
            "_view_module": "@jupyter-widgets/base",
            "_model_module_version": "1.5.0",
            "_view_count": null,
            "_view_module_version": "1.2.0",
            "_model_module": "@jupyter-widgets/controls"
          }
        },
        "3b54f0dcd6414a4ab3a8607bbfb3e442": {
          "model_module": "@jupyter-widgets/base",
          "model_name": "LayoutModel",
          "state": {
            "_view_name": "LayoutView",
            "grid_template_rows": null,
            "right": null,
            "justify_content": null,
            "_view_module": "@jupyter-widgets/base",
            "overflow": null,
            "_model_module_version": "1.2.0",
            "_view_count": null,
            "flex_flow": null,
            "width": null,
            "min_width": null,
            "border": null,
            "align_items": null,
            "bottom": null,
            "_model_module": "@jupyter-widgets/base",
            "top": null,
            "grid_column": null,
            "overflow_y": null,
            "overflow_x": null,
            "grid_auto_flow": null,
            "grid_area": null,
            "grid_template_columns": null,
            "flex": null,
            "_model_name": "LayoutModel",
            "justify_items": null,
            "grid_row": null,
            "max_height": null,
            "align_content": null,
            "visibility": null,
            "align_self": null,
            "height": null,
            "min_height": null,
            "padding": null,
            "grid_auto_rows": null,
            "grid_gap": null,
            "max_width": null,
            "order": null,
            "_view_module_version": "1.2.0",
            "grid_template_areas": null,
            "object_position": null,
            "object_fit": null,
            "grid_auto_columns": null,
            "margin": null,
            "display": null,
            "left": null
          }
        },
        "0003e93edfec46539b84b538a1039003": {
          "model_module": "@jupyter-widgets/controls",
          "model_name": "HBoxModel",
          "state": {
            "_view_name": "HBoxView",
            "_dom_classes": [],
            "_model_name": "HBoxModel",
            "_view_module": "@jupyter-widgets/controls",
            "_model_module_version": "1.5.0",
            "_view_count": null,
            "_view_module_version": "1.5.0",
            "box_style": "",
            "layout": "IPY_MODEL_43107313fe4c40a2a8805bb20d829485",
            "_model_module": "@jupyter-widgets/controls",
            "children": [
              "IPY_MODEL_44cf2494f9f5434eb9567c41b74904ed",
              "IPY_MODEL_1b626e48b4c84a9fb26cec6bae66c8b2"
            ]
          }
        },
        "43107313fe4c40a2a8805bb20d829485": {
          "model_module": "@jupyter-widgets/base",
          "model_name": "LayoutModel",
          "state": {
            "_view_name": "LayoutView",
            "grid_template_rows": null,
            "right": null,
            "justify_content": null,
            "_view_module": "@jupyter-widgets/base",
            "overflow": null,
            "_model_module_version": "1.2.0",
            "_view_count": null,
            "flex_flow": null,
            "width": null,
            "min_width": null,
            "border": null,
            "align_items": null,
            "bottom": null,
            "_model_module": "@jupyter-widgets/base",
            "top": null,
            "grid_column": null,
            "overflow_y": null,
            "overflow_x": null,
            "grid_auto_flow": null,
            "grid_area": null,
            "grid_template_columns": null,
            "flex": null,
            "_model_name": "LayoutModel",
            "justify_items": null,
            "grid_row": null,
            "max_height": null,
            "align_content": null,
            "visibility": null,
            "align_self": null,
            "height": null,
            "min_height": null,
            "padding": null,
            "grid_auto_rows": null,
            "grid_gap": null,
            "max_width": null,
            "order": null,
            "_view_module_version": "1.2.0",
            "grid_template_areas": null,
            "object_position": null,
            "object_fit": null,
            "grid_auto_columns": null,
            "margin": null,
            "display": null,
            "left": null
          }
        },
        "44cf2494f9f5434eb9567c41b74904ed": {
          "model_module": "@jupyter-widgets/controls",
          "model_name": "FloatProgressModel",
          "state": {
            "_view_name": "ProgressView",
            "style": "IPY_MODEL_2ec01c6fbda5443386dc0c11080b524f",
            "_dom_classes": [],
            "description": "",
            "_model_name": "FloatProgressModel",
            "bar_style": "info",
            "max": 1,
            "_view_module": "@jupyter-widgets/controls",
            "_model_module_version": "1.5.0",
            "value": 1,
            "_view_count": null,
            "_view_module_version": "1.5.0",
            "orientation": "horizontal",
            "min": 0,
            "description_tooltip": null,
            "_model_module": "@jupyter-widgets/controls",
            "layout": "IPY_MODEL_13498bb6849948c3972958124607010b"
          }
        },
        "1b626e48b4c84a9fb26cec6bae66c8b2": {
          "model_module": "@jupyter-widgets/controls",
          "model_name": "HTMLModel",
          "state": {
            "_view_name": "HTMLView",
            "style": "IPY_MODEL_e6e2942f6c354a659d4304d123bc3ed9",
            "_dom_classes": [],
            "description": "",
            "_model_name": "HTMLModel",
            "placeholder": "​",
            "_view_module": "@jupyter-widgets/controls",
            "_model_module_version": "1.5.0",
            "value": " 32768/? [00:17&lt;00:00, 113671.96it/s]",
            "_view_count": null,
            "_view_module_version": "1.5.0",
            "description_tooltip": null,
            "_model_module": "@jupyter-widgets/controls",
            "layout": "IPY_MODEL_c02fdc16829b4b35be88e3dfd717a7f5"
          }
        },
        "2ec01c6fbda5443386dc0c11080b524f": {
          "model_module": "@jupyter-widgets/controls",
          "model_name": "ProgressStyleModel",
          "state": {
            "_view_name": "StyleView",
            "_model_name": "ProgressStyleModel",
            "description_width": "initial",
            "_view_module": "@jupyter-widgets/base",
            "_model_module_version": "1.5.0",
            "_view_count": null,
            "_view_module_version": "1.2.0",
            "bar_color": null,
            "_model_module": "@jupyter-widgets/controls"
          }
        },
        "13498bb6849948c3972958124607010b": {
          "model_module": "@jupyter-widgets/base",
          "model_name": "LayoutModel",
          "state": {
            "_view_name": "LayoutView",
            "grid_template_rows": null,
            "right": null,
            "justify_content": null,
            "_view_module": "@jupyter-widgets/base",
            "overflow": null,
            "_model_module_version": "1.2.0",
            "_view_count": null,
            "flex_flow": null,
            "width": null,
            "min_width": null,
            "border": null,
            "align_items": null,
            "bottom": null,
            "_model_module": "@jupyter-widgets/base",
            "top": null,
            "grid_column": null,
            "overflow_y": null,
            "overflow_x": null,
            "grid_auto_flow": null,
            "grid_area": null,
            "grid_template_columns": null,
            "flex": null,
            "_model_name": "LayoutModel",
            "justify_items": null,
            "grid_row": null,
            "max_height": null,
            "align_content": null,
            "visibility": null,
            "align_self": null,
            "height": null,
            "min_height": null,
            "padding": null,
            "grid_auto_rows": null,
            "grid_gap": null,
            "max_width": null,
            "order": null,
            "_view_module_version": "1.2.0",
            "grid_template_areas": null,
            "object_position": null,
            "object_fit": null,
            "grid_auto_columns": null,
            "margin": null,
            "display": null,
            "left": null
          }
        },
        "e6e2942f6c354a659d4304d123bc3ed9": {
          "model_module": "@jupyter-widgets/controls",
          "model_name": "DescriptionStyleModel",
          "state": {
            "_view_name": "StyleView",
            "_model_name": "DescriptionStyleModel",
            "description_width": "",
            "_view_module": "@jupyter-widgets/base",
            "_model_module_version": "1.5.0",
            "_view_count": null,
            "_view_module_version": "1.2.0",
            "_model_module": "@jupyter-widgets/controls"
          }
        },
        "c02fdc16829b4b35be88e3dfd717a7f5": {
          "model_module": "@jupyter-widgets/base",
          "model_name": "LayoutModel",
          "state": {
            "_view_name": "LayoutView",
            "grid_template_rows": null,
            "right": null,
            "justify_content": null,
            "_view_module": "@jupyter-widgets/base",
            "overflow": null,
            "_model_module_version": "1.2.0",
            "_view_count": null,
            "flex_flow": null,
            "width": null,
            "min_width": null,
            "border": null,
            "align_items": null,
            "bottom": null,
            "_model_module": "@jupyter-widgets/base",
            "top": null,
            "grid_column": null,
            "overflow_y": null,
            "overflow_x": null,
            "grid_auto_flow": null,
            "grid_area": null,
            "grid_template_columns": null,
            "flex": null,
            "_model_name": "LayoutModel",
            "justify_items": null,
            "grid_row": null,
            "max_height": null,
            "align_content": null,
            "visibility": null,
            "align_self": null,
            "height": null,
            "min_height": null,
            "padding": null,
            "grid_auto_rows": null,
            "grid_gap": null,
            "max_width": null,
            "order": null,
            "_view_module_version": "1.2.0",
            "grid_template_areas": null,
            "object_position": null,
            "object_fit": null,
            "grid_auto_columns": null,
            "margin": null,
            "display": null,
            "left": null
          }
        },
        "e87022adb6484792ac51e120f0897641": {
          "model_module": "@jupyter-widgets/controls",
          "model_name": "HBoxModel",
          "state": {
            "_view_name": "HBoxView",
            "_dom_classes": [],
            "_model_name": "HBoxModel",
            "_view_module": "@jupyter-widgets/controls",
            "_model_module_version": "1.5.0",
            "_view_count": null,
            "_view_module_version": "1.5.0",
            "box_style": "",
            "layout": "IPY_MODEL_da7f083bff1440018c1ba48d9fa58ce0",
            "_model_module": "@jupyter-widgets/controls",
            "children": [
              "IPY_MODEL_3ff33a6c0bba4259b462ccc584db56a7",
              "IPY_MODEL_2e65fb6d4e39427ab24aef04a00bd2b7"
            ]
          }
        },
        "da7f083bff1440018c1ba48d9fa58ce0": {
          "model_module": "@jupyter-widgets/base",
          "model_name": "LayoutModel",
          "state": {
            "_view_name": "LayoutView",
            "grid_template_rows": null,
            "right": null,
            "justify_content": null,
            "_view_module": "@jupyter-widgets/base",
            "overflow": null,
            "_model_module_version": "1.2.0",
            "_view_count": null,
            "flex_flow": null,
            "width": null,
            "min_width": null,
            "border": null,
            "align_items": null,
            "bottom": null,
            "_model_module": "@jupyter-widgets/base",
            "top": null,
            "grid_column": null,
            "overflow_y": null,
            "overflow_x": null,
            "grid_auto_flow": null,
            "grid_area": null,
            "grid_template_columns": null,
            "flex": null,
            "_model_name": "LayoutModel",
            "justify_items": null,
            "grid_row": null,
            "max_height": null,
            "align_content": null,
            "visibility": null,
            "align_self": null,
            "height": null,
            "min_height": null,
            "padding": null,
            "grid_auto_rows": null,
            "grid_gap": null,
            "max_width": null,
            "order": null,
            "_view_module_version": "1.2.0",
            "grid_template_areas": null,
            "object_position": null,
            "object_fit": null,
            "grid_auto_columns": null,
            "margin": null,
            "display": null,
            "left": null
          }
        },
        "3ff33a6c0bba4259b462ccc584db56a7": {
          "model_module": "@jupyter-widgets/controls",
          "model_name": "FloatProgressModel",
          "state": {
            "_view_name": "ProgressView",
            "style": "IPY_MODEL_d6f6405d124846aa8b0d09b283893258",
            "_dom_classes": [],
            "description": "",
            "_model_name": "FloatProgressModel",
            "bar_style": "success",
            "max": 1,
            "_view_module": "@jupyter-widgets/controls",
            "_model_module_version": "1.5.0",
            "value": 1,
            "_view_count": null,
            "_view_module_version": "1.5.0",
            "orientation": "horizontal",
            "min": 0,
            "description_tooltip": null,
            "_model_module": "@jupyter-widgets/controls",
            "layout": "IPY_MODEL_b054008c899a42f2a27ad77f975a2222"
          }
        },
        "2e65fb6d4e39427ab24aef04a00bd2b7": {
          "model_module": "@jupyter-widgets/controls",
          "model_name": "HTMLModel",
          "state": {
            "_view_name": "HTMLView",
            "style": "IPY_MODEL_1db4b609419e4d238518317d56a557d7",
            "_dom_classes": [],
            "description": "",
            "_model_name": "HTMLModel",
            "placeholder": "​",
            "_view_module": "@jupyter-widgets/controls",
            "_model_module_version": "1.5.0",
            "value": " 4423680/? [00:02&lt;00:00, 2141652.85it/s]",
            "_view_count": null,
            "_view_module_version": "1.5.0",
            "description_tooltip": null,
            "_model_module": "@jupyter-widgets/controls",
            "layout": "IPY_MODEL_05cb3db937c14fc4a91924aea7b6b024"
          }
        },
        "d6f6405d124846aa8b0d09b283893258": {
          "model_module": "@jupyter-widgets/controls",
          "model_name": "ProgressStyleModel",
          "state": {
            "_view_name": "StyleView",
            "_model_name": "ProgressStyleModel",
            "description_width": "initial",
            "_view_module": "@jupyter-widgets/base",
            "_model_module_version": "1.5.0",
            "_view_count": null,
            "_view_module_version": "1.2.0",
            "bar_color": null,
            "_model_module": "@jupyter-widgets/controls"
          }
        },
        "b054008c899a42f2a27ad77f975a2222": {
          "model_module": "@jupyter-widgets/base",
          "model_name": "LayoutModel",
          "state": {
            "_view_name": "LayoutView",
            "grid_template_rows": null,
            "right": null,
            "justify_content": null,
            "_view_module": "@jupyter-widgets/base",
            "overflow": null,
            "_model_module_version": "1.2.0",
            "_view_count": null,
            "flex_flow": null,
            "width": null,
            "min_width": null,
            "border": null,
            "align_items": null,
            "bottom": null,
            "_model_module": "@jupyter-widgets/base",
            "top": null,
            "grid_column": null,
            "overflow_y": null,
            "overflow_x": null,
            "grid_auto_flow": null,
            "grid_area": null,
            "grid_template_columns": null,
            "flex": null,
            "_model_name": "LayoutModel",
            "justify_items": null,
            "grid_row": null,
            "max_height": null,
            "align_content": null,
            "visibility": null,
            "align_self": null,
            "height": null,
            "min_height": null,
            "padding": null,
            "grid_auto_rows": null,
            "grid_gap": null,
            "max_width": null,
            "order": null,
            "_view_module_version": "1.2.0",
            "grid_template_areas": null,
            "object_position": null,
            "object_fit": null,
            "grid_auto_columns": null,
            "margin": null,
            "display": null,
            "left": null
          }
        },
        "1db4b609419e4d238518317d56a557d7": {
          "model_module": "@jupyter-widgets/controls",
          "model_name": "DescriptionStyleModel",
          "state": {
            "_view_name": "StyleView",
            "_model_name": "DescriptionStyleModel",
            "description_width": "",
            "_view_module": "@jupyter-widgets/base",
            "_model_module_version": "1.5.0",
            "_view_count": null,
            "_view_module_version": "1.2.0",
            "_model_module": "@jupyter-widgets/controls"
          }
        },
        "05cb3db937c14fc4a91924aea7b6b024": {
          "model_module": "@jupyter-widgets/base",
          "model_name": "LayoutModel",
          "state": {
            "_view_name": "LayoutView",
            "grid_template_rows": null,
            "right": null,
            "justify_content": null,
            "_view_module": "@jupyter-widgets/base",
            "overflow": null,
            "_model_module_version": "1.2.0",
            "_view_count": null,
            "flex_flow": null,
            "width": null,
            "min_width": null,
            "border": null,
            "align_items": null,
            "bottom": null,
            "_model_module": "@jupyter-widgets/base",
            "top": null,
            "grid_column": null,
            "overflow_y": null,
            "overflow_x": null,
            "grid_auto_flow": null,
            "grid_area": null,
            "grid_template_columns": null,
            "flex": null,
            "_model_name": "LayoutModel",
            "justify_items": null,
            "grid_row": null,
            "max_height": null,
            "align_content": null,
            "visibility": null,
            "align_self": null,
            "height": null,
            "min_height": null,
            "padding": null,
            "grid_auto_rows": null,
            "grid_gap": null,
            "max_width": null,
            "order": null,
            "_view_module_version": "1.2.0",
            "grid_template_areas": null,
            "object_position": null,
            "object_fit": null,
            "grid_auto_columns": null,
            "margin": null,
            "display": null,
            "left": null
          }
        },
        "f37639f95e6349cca7b4f74cf7f52588": {
          "model_module": "@jupyter-widgets/controls",
          "model_name": "HBoxModel",
          "state": {
            "_view_name": "HBoxView",
            "_dom_classes": [],
            "_model_name": "HBoxModel",
            "_view_module": "@jupyter-widgets/controls",
            "_model_module_version": "1.5.0",
            "_view_count": null,
            "_view_module_version": "1.5.0",
            "box_style": "",
            "layout": "IPY_MODEL_983bf23445d24686a32ab969f8b91d29",
            "_model_module": "@jupyter-widgets/controls",
            "children": [
              "IPY_MODEL_4cfd112148ef43ae86de08ab04b9ed63",
              "IPY_MODEL_46b948af179c485ebd7b286cf5f3df15"
            ]
          }
        },
        "983bf23445d24686a32ab969f8b91d29": {
          "model_module": "@jupyter-widgets/base",
          "model_name": "LayoutModel",
          "state": {
            "_view_name": "LayoutView",
            "grid_template_rows": null,
            "right": null,
            "justify_content": null,
            "_view_module": "@jupyter-widgets/base",
            "overflow": null,
            "_model_module_version": "1.2.0",
            "_view_count": null,
            "flex_flow": null,
            "width": null,
            "min_width": null,
            "border": null,
            "align_items": null,
            "bottom": null,
            "_model_module": "@jupyter-widgets/base",
            "top": null,
            "grid_column": null,
            "overflow_y": null,
            "overflow_x": null,
            "grid_auto_flow": null,
            "grid_area": null,
            "grid_template_columns": null,
            "flex": null,
            "_model_name": "LayoutModel",
            "justify_items": null,
            "grid_row": null,
            "max_height": null,
            "align_content": null,
            "visibility": null,
            "align_self": null,
            "height": null,
            "min_height": null,
            "padding": null,
            "grid_auto_rows": null,
            "grid_gap": null,
            "max_width": null,
            "order": null,
            "_view_module_version": "1.2.0",
            "grid_template_areas": null,
            "object_position": null,
            "object_fit": null,
            "grid_auto_columns": null,
            "margin": null,
            "display": null,
            "left": null
          }
        },
        "4cfd112148ef43ae86de08ab04b9ed63": {
          "model_module": "@jupyter-widgets/controls",
          "model_name": "FloatProgressModel",
          "state": {
            "_view_name": "ProgressView",
            "style": "IPY_MODEL_d8a97eecbe374d5fac306ce82daffc03",
            "_dom_classes": [],
            "description": "",
            "_model_name": "FloatProgressModel",
            "bar_style": "success",
            "max": 1,
            "_view_module": "@jupyter-widgets/controls",
            "_model_module_version": "1.5.0",
            "value": 1,
            "_view_count": null,
            "_view_module_version": "1.5.0",
            "orientation": "horizontal",
            "min": 0,
            "description_tooltip": null,
            "_model_module": "@jupyter-widgets/controls",
            "layout": "IPY_MODEL_1e6e84b1540a495eb4faf64b0e692e8a"
          }
        },
        "46b948af179c485ebd7b286cf5f3df15": {
          "model_module": "@jupyter-widgets/controls",
          "model_name": "HTMLModel",
          "state": {
            "_view_name": "HTMLView",
            "style": "IPY_MODEL_0471597a4f194e148d74f9f92db585d3",
            "_dom_classes": [],
            "description": "",
            "_model_name": "HTMLModel",
            "placeholder": "​",
            "_view_module": "@jupyter-widgets/controls",
            "_model_module_version": "1.5.0",
            "value": " 8192/? [00:00&lt;00:00, 14667.07it/s]",
            "_view_count": null,
            "_view_module_version": "1.5.0",
            "description_tooltip": null,
            "_model_module": "@jupyter-widgets/controls",
            "layout": "IPY_MODEL_f23dcdb01be942cc8dc9508a935a367e"
          }
        },
        "d8a97eecbe374d5fac306ce82daffc03": {
          "model_module": "@jupyter-widgets/controls",
          "model_name": "ProgressStyleModel",
          "state": {
            "_view_name": "StyleView",
            "_model_name": "ProgressStyleModel",
            "description_width": "initial",
            "_view_module": "@jupyter-widgets/base",
            "_model_module_version": "1.5.0",
            "_view_count": null,
            "_view_module_version": "1.2.0",
            "bar_color": null,
            "_model_module": "@jupyter-widgets/controls"
          }
        },
        "1e6e84b1540a495eb4faf64b0e692e8a": {
          "model_module": "@jupyter-widgets/base",
          "model_name": "LayoutModel",
          "state": {
            "_view_name": "LayoutView",
            "grid_template_rows": null,
            "right": null,
            "justify_content": null,
            "_view_module": "@jupyter-widgets/base",
            "overflow": null,
            "_model_module_version": "1.2.0",
            "_view_count": null,
            "flex_flow": null,
            "width": null,
            "min_width": null,
            "border": null,
            "align_items": null,
            "bottom": null,
            "_model_module": "@jupyter-widgets/base",
            "top": null,
            "grid_column": null,
            "overflow_y": null,
            "overflow_x": null,
            "grid_auto_flow": null,
            "grid_area": null,
            "grid_template_columns": null,
            "flex": null,
            "_model_name": "LayoutModel",
            "justify_items": null,
            "grid_row": null,
            "max_height": null,
            "align_content": null,
            "visibility": null,
            "align_self": null,
            "height": null,
            "min_height": null,
            "padding": null,
            "grid_auto_rows": null,
            "grid_gap": null,
            "max_width": null,
            "order": null,
            "_view_module_version": "1.2.0",
            "grid_template_areas": null,
            "object_position": null,
            "object_fit": null,
            "grid_auto_columns": null,
            "margin": null,
            "display": null,
            "left": null
          }
        },
        "0471597a4f194e148d74f9f92db585d3": {
          "model_module": "@jupyter-widgets/controls",
          "model_name": "DescriptionStyleModel",
          "state": {
            "_view_name": "StyleView",
            "_model_name": "DescriptionStyleModel",
            "description_width": "",
            "_view_module": "@jupyter-widgets/base",
            "_model_module_version": "1.5.0",
            "_view_count": null,
            "_view_module_version": "1.2.0",
            "_model_module": "@jupyter-widgets/controls"
          }
        },
        "f23dcdb01be942cc8dc9508a935a367e": {
          "model_module": "@jupyter-widgets/base",
          "model_name": "LayoutModel",
          "state": {
            "_view_name": "LayoutView",
            "grid_template_rows": null,
            "right": null,
            "justify_content": null,
            "_view_module": "@jupyter-widgets/base",
            "overflow": null,
            "_model_module_version": "1.2.0",
            "_view_count": null,
            "flex_flow": null,
            "width": null,
            "min_width": null,
            "border": null,
            "align_items": null,
            "bottom": null,
            "_model_module": "@jupyter-widgets/base",
            "top": null,
            "grid_column": null,
            "overflow_y": null,
            "overflow_x": null,
            "grid_auto_flow": null,
            "grid_area": null,
            "grid_template_columns": null,
            "flex": null,
            "_model_name": "LayoutModel",
            "justify_items": null,
            "grid_row": null,
            "max_height": null,
            "align_content": null,
            "visibility": null,
            "align_self": null,
            "height": null,
            "min_height": null,
            "padding": null,
            "grid_auto_rows": null,
            "grid_gap": null,
            "max_width": null,
            "order": null,
            "_view_module_version": "1.2.0",
            "grid_template_areas": null,
            "object_position": null,
            "object_fit": null,
            "grid_auto_columns": null,
            "margin": null,
            "display": null,
            "left": null
          }
        }
      }
    }
  },
  "cells": [
    {
      "cell_type": "markdown",
      "metadata": {
        "id": "view-in-github",
        "colab_type": "text"
      },
      "source": [
        "<a href=\"https://colab.research.google.com/github/yeb2Binfang/ECE-9123_DL/blob/main/Lab/week2_pytorch_autograd.ipynb\" target=\"_parent\"><img src=\"https://colab.research.google.com/assets/colab-badge.svg\" alt=\"Open In Colab\"/></a>"
      ]
    },
    {
      "cell_type": "markdown",
      "metadata": {
        "id": "CK3VhrkakGrS"
      },
      "source": [
        "Made by Sarah"
      ]
    },
    {
      "cell_type": "code",
      "metadata": {
        "id": "8zHrM6ihB1uA"
      },
      "source": [
        "import torch\n",
        "import torchvision\n",
        "\n",
        "%matplotlib inline\n",
        "import matplotlib.pyplot as plt"
      ],
      "execution_count": null,
      "outputs": []
    },
    {
      "cell_type": "code",
      "metadata": {
        "id": "Rpiy3W2z6Ueh",
        "colab": {
          "base_uri": "https://localhost:8080/"
        },
        "outputId": "7c8d2c4b-e484-40a5-a3db-e3033fcb8677"
      },
      "source": [
        "# render the computation graphs\n",
        "!pip install torchviz\n",
        "from torchviz import make_dot"
      ],
      "execution_count": null,
      "outputs": [
        {
          "output_type": "stream",
          "text": [
            "Collecting torchviz\n",
            "\u001b[?25l  Downloading https://files.pythonhosted.org/packages/8f/8e/a9630c7786b846d08b47714dd363a051f5e37b4ea0e534460d8cdfc1644b/torchviz-0.0.1.tar.gz (41kB)\n",
            "\r\u001b[K     |████████                        | 10kB 23.7MB/s eta 0:00:01\r\u001b[K     |████████████████                | 20kB 14.2MB/s eta 0:00:01\r\u001b[K     |███████████████████████▉        | 30kB 12.6MB/s eta 0:00:01\r\u001b[K     |███████████████████████████████▉| 40kB 11.7MB/s eta 0:00:01\r\u001b[K     |████████████████████████████████| 51kB 6.0MB/s \n",
            "\u001b[?25hRequirement already satisfied: torch in /usr/local/lib/python3.6/dist-packages (from torchviz) (1.7.0+cu101)\n",
            "Requirement already satisfied: graphviz in /usr/local/lib/python3.6/dist-packages (from torchviz) (0.10.1)\n",
            "Requirement already satisfied: dataclasses in /usr/local/lib/python3.6/dist-packages (from torch->torchviz) (0.8)\n",
            "Requirement already satisfied: typing-extensions in /usr/local/lib/python3.6/dist-packages (from torch->torchviz) (3.7.4.3)\n",
            "Requirement already satisfied: numpy in /usr/local/lib/python3.6/dist-packages (from torch->torchviz) (1.19.5)\n",
            "Requirement already satisfied: future in /usr/local/lib/python3.6/dist-packages (from torch->torchviz) (0.16.0)\n",
            "Building wheels for collected packages: torchviz\n",
            "  Building wheel for torchviz (setup.py) ... \u001b[?25l\u001b[?25hdone\n",
            "  Created wheel for torchviz: filename=torchviz-0.0.1-cp36-none-any.whl size=3522 sha256=31ea723ef1ddf3227d9051d4d556f6d445dae146e218f685aebc24453fa3eecf\n",
            "  Stored in directory: /root/.cache/pip/wheels/2a/c2/c5/b8b4d0f7992c735f6db5bfa3c5f354cf36502037ca2b585667\n",
            "Successfully built torchviz\n",
            "Installing collected packages: torchviz\n",
            "Successfully installed torchviz-0.0.1\n"
          ],
          "name": "stdout"
        }
      ]
    },
    {
      "cell_type": "markdown",
      "metadata": {
        "id": "cuRIMzC-CYx-"
      },
      "source": [
        "# Autograd\n",
        "\n",
        "Automatic differentiation is one of important developments that allowed machine learning to become computationally feasible and thus widespread. This is one of the clearest and most helpful explanations of automatic differentiation I've encountered: http://colah.github.io/posts/2015-08-Backprop/. For the mathematically curious, this is an excellent detailed discussion of automatic differentiation: https://www.jmlr.org/papers/volume18/17-468/17-468.pdf.\n",
        "\n",
        "Some things to note about autograd for our purposes here:\n",
        "- variables keep track of what operation produced them and a computation graph of these operations is recorded (variables generated by operations are generally ones which are transformations of earlier inputs and w/r/t which they have partial derivatives which you want to use later)\n",
        "- reverse-mode differentiation computes the value of $\\frac{\\partial \\text{ output}}{\\partial \\text{node}}$ for each node in the graph\n",
        "- this partial derivative corresponds to the influence of a given node on the output in question\n",
        "- when we call ```backward()```, we are causing all of the contributing partial derivatives to be computed\n",
        "- the influence of a given node on the output depends only on its influence on its child nodes, which have already been computed (n.b. if this sounds a lot like dynamic programming, that's because it is - see blog post linked above)"
      ]
    },
    {
      "cell_type": "code",
      "metadata": {
        "id": "UvQ-FaGlP1T-"
      },
      "source": [
        "a = torch.tensor([2., 3.], requires_grad=True)\n",
        "b = torch.tensor([6., 4.], requires_grad=True)"
      ],
      "execution_count": null,
      "outputs": []
    },
    {
      "cell_type": "markdown",
      "metadata": {
        "id": "UusMNy0pRhQC"
      },
      "source": [
        "$$Q = 3a^{3} - b^{2}$$"
      ]
    },
    {
      "cell_type": "code",
      "metadata": {
        "id": "m2PogXmtP2Yo"
      },
      "source": [
        "Q = 3*a**3 - b**2"
      ],
      "execution_count": null,
      "outputs": []
    },
    {
      "cell_type": "code",
      "metadata": {
        "colab": {
          "base_uri": "https://localhost:8080/",
          "height": 325
        },
        "id": "GHrFFz9oP5Z2",
        "outputId": "fb040051-d1ba-48fc-b8e5-d921ec4a42f1"
      },
      "source": [
        "make_dot(Q)"
      ],
      "execution_count": null,
      "outputs": [
        {
          "output_type": "execute_result",
          "data": {
            "text/plain": [
              "<graphviz.dot.Digraph at 0x7f8cf6e750b8>"
            ],
            "image/svg+xml": "<?xml version=\"1.0\" encoding=\"UTF-8\" standalone=\"no\"?>\n<!DOCTYPE svg PUBLIC \"-//W3C//DTD SVG 1.1//EN\"\n \"http://www.w3.org/Graphics/SVG/1.1/DTD/svg11.dtd\">\n<!-- Generated by graphviz version 2.40.1 (20161225.0304)\n -->\n<!-- Title: %3 Pages: 1 -->\n<svg width=\"211pt\" height=\"228pt\"\n viewBox=\"0.00 0.00 211.00 228.00\" xmlns=\"http://www.w3.org/2000/svg\" xmlns:xlink=\"http://www.w3.org/1999/xlink\">\n<g id=\"graph0\" class=\"graph\" transform=\"scale(1 1) rotate(0) translate(4 224)\">\n<title>%3</title>\n<polygon fill=\"#ffffff\" stroke=\"transparent\" points=\"-4,4 -4,-224 207,-224 207,4 -4,4\"/>\n<!-- 140242874227792 -->\n<g id=\"node1\" class=\"node\">\n<title>140242874227792</title>\n<polygon fill=\"#caff70\" stroke=\"#000000\" points=\"146.5,-21 56.5,-21 56.5,0 146.5,0 146.5,-21\"/>\n<text text-anchor=\"middle\" x=\"101.5\" y=\"-7.4\" font-family=\"Times,serif\" font-size=\"12.00\" fill=\"#000000\">SubBackward0</text>\n</g>\n<!-- 140242874226896 -->\n<g id=\"node2\" class=\"node\">\n<title>140242874226896</title>\n<polygon fill=\"#d3d3d3\" stroke=\"#000000\" points=\"92,-78 1,-78 1,-57 92,-57 92,-78\"/>\n<text text-anchor=\"middle\" x=\"46.5\" y=\"-64.4\" font-family=\"Times,serif\" font-size=\"12.00\" fill=\"#000000\">MulBackward0</text>\n</g>\n<!-- 140242874226896&#45;&gt;140242874227792 -->\n<g id=\"edge1\" class=\"edge\">\n<title>140242874226896&#45;&gt;140242874227792</title>\n<path fill=\"none\" stroke=\"#000000\" d=\"M56.8451,-56.7787C64.5272,-48.8173 75.1831,-37.7739 84.1589,-28.4717\"/>\n<polygon fill=\"#000000\" stroke=\"#000000\" points=\"86.7763,-30.7997 91.2013,-21.1732 81.7389,-25.9391 86.7763,-30.7997\"/>\n</g>\n<!-- 140242874227064 -->\n<g id=\"node3\" class=\"node\">\n<title>140242874227064</title>\n<polygon fill=\"#d3d3d3\" stroke=\"#000000\" points=\"93,-142 0,-142 0,-121 93,-121 93,-142\"/>\n<text text-anchor=\"middle\" x=\"46.5\" y=\"-128.4\" font-family=\"Times,serif\" font-size=\"12.00\" fill=\"#000000\">PowBackward0</text>\n</g>\n<!-- 140242874227064&#45;&gt;140242874226896 -->\n<g id=\"edge2\" class=\"edge\">\n<title>140242874227064&#45;&gt;140242874226896</title>\n<path fill=\"none\" stroke=\"#000000\" d=\"M46.5,-120.9317C46.5,-112.0913 46.5,-99.2122 46.5,-88.3135\"/>\n<polygon fill=\"#000000\" stroke=\"#000000\" points=\"50.0001,-88.2979 46.5,-78.2979 43.0001,-88.2979 50.0001,-88.2979\"/>\n</g>\n<!-- 140243116161512 -->\n<g id=\"node4\" class=\"node\">\n<title>140243116161512</title>\n<polygon fill=\"#add8e6\" stroke=\"#000000\" points=\"73.5,-220 19.5,-220 19.5,-185 73.5,-185 73.5,-220\"/>\n<text text-anchor=\"middle\" x=\"46.5\" y=\"-192.4\" font-family=\"Times,serif\" font-size=\"12.00\" fill=\"#000000\"> (2)</text>\n</g>\n<!-- 140243116161512&#45;&gt;140242874227064 -->\n<g id=\"edge3\" class=\"edge\">\n<title>140243116161512&#45;&gt;140242874227064</title>\n<path fill=\"none\" stroke=\"#000000\" d=\"M46.5,-184.9494C46.5,-175.058 46.5,-162.6435 46.5,-152.2693\"/>\n<polygon fill=\"#000000\" stroke=\"#000000\" points=\"50.0001,-152.0288 46.5,-142.0288 43.0001,-152.0289 50.0001,-152.0288\"/>\n</g>\n<!-- 140242874227008 -->\n<g id=\"node5\" class=\"node\">\n<title>140242874227008</title>\n<polygon fill=\"#d3d3d3\" stroke=\"#000000\" points=\"203,-78 110,-78 110,-57 203,-57 203,-78\"/>\n<text text-anchor=\"middle\" x=\"156.5\" y=\"-64.4\" font-family=\"Times,serif\" font-size=\"12.00\" fill=\"#000000\">PowBackward0</text>\n</g>\n<!-- 140242874227008&#45;&gt;140242874227792 -->\n<g id=\"edge4\" class=\"edge\">\n<title>140242874227008&#45;&gt;140242874227792</title>\n<path fill=\"none\" stroke=\"#000000\" d=\"M146.1549,-56.7787C138.4728,-48.8173 127.8169,-37.7739 118.8411,-28.4717\"/>\n<polygon fill=\"#000000\" stroke=\"#000000\" points=\"121.2611,-25.9391 111.7987,-21.1732 116.2237,-30.7997 121.2611,-25.9391\"/>\n</g>\n<!-- 140242874227568 -->\n<g id=\"node6\" class=\"node\">\n<title>140242874227568</title>\n<polygon fill=\"#add8e6\" stroke=\"#000000\" points=\"183.5,-149 129.5,-149 129.5,-114 183.5,-114 183.5,-149\"/>\n<text text-anchor=\"middle\" x=\"156.5\" y=\"-121.4\" font-family=\"Times,serif\" font-size=\"12.00\" fill=\"#000000\"> (2)</text>\n</g>\n<!-- 140242874227568&#45;&gt;140242874227008 -->\n<g id=\"edge5\" class=\"edge\">\n<title>140242874227568&#45;&gt;140242874227008</title>\n<path fill=\"none\" stroke=\"#000000\" d=\"M156.5,-113.6724C156.5,-105.8405 156.5,-96.5893 156.5,-88.4323\"/>\n<polygon fill=\"#000000\" stroke=\"#000000\" points=\"160.0001,-88.2234 156.5,-78.2234 153.0001,-88.2235 160.0001,-88.2234\"/>\n</g>\n</g>\n</svg>\n"
          },
          "metadata": {
            "tags": []
          },
          "execution_count": 5
        }
      ]
    },
    {
      "cell_type": "code",
      "metadata": {
        "id": "e0M3nGcyQClG"
      },
      "source": [
        "external_grad = torch.tensor([1., 1.]) # a tensor for partial derivative of Q wrt itself\n",
        "Q.backward(gradient=external_grad)"
      ],
      "execution_count": null,
      "outputs": []
    },
    {
      "cell_type": "markdown",
      "metadata": {
        "id": "jMb-LAFoRrmO"
      },
      "source": [
        "We expect the partial derivatives to be:\n",
        "\n",
        "$$\\frac{\\partial Q}{\\partial a} = 9a^{2}$$\n",
        "\n",
        "$$\\frac{\\partial Q}{\\partial b} = -2b$$"
      ]
    },
    {
      "cell_type": "code",
      "metadata": {
        "colab": {
          "base_uri": "https://localhost:8080/"
        },
        "id": "mn6XPwN-QFAC",
        "outputId": "df043ba5-7fcc-4266-c605-af13458428b9"
      },
      "source": [
        "# check this is true\n",
        "print(9*a**2 == a.grad)\n",
        "print(-2*b == b.grad)"
      ],
      "execution_count": null,
      "outputs": [
        {
          "output_type": "stream",
          "text": [
            "tensor([True, True])\n",
            "tensor([True, True])\n"
          ],
          "name": "stdout"
        }
      ]
    },
    {
      "cell_type": "markdown",
      "metadata": {
        "id": "7uvLM2sxbJCu"
      },
      "source": [
        "# Using a dataset"
      ]
    },
    {
      "cell_type": "code",
      "metadata": {
        "id": "qMb0WQthE2vR",
        "colab": {
          "base_uri": "https://localhost:8080/",
          "height": 403,
          "referenced_widgets": [
            "788a8d9ca2494745805e28a80abd8b9e",
            "83f146ffb57d400497dc6604ec2e5ffe",
            "37892a7514474230803b98a9cb9e8a31",
            "21fa63423fe24dbb8a0841bd9a448ceb",
            "246e5e1197f040aa98faecce06a18d1e",
            "5a9b2eed9e91498f9a5fe7508e092905",
            "86f6167f0af84e12817ab6d1527336a7",
            "3b54f0dcd6414a4ab3a8607bbfb3e442",
            "0003e93edfec46539b84b538a1039003",
            "43107313fe4c40a2a8805bb20d829485",
            "44cf2494f9f5434eb9567c41b74904ed",
            "1b626e48b4c84a9fb26cec6bae66c8b2",
            "2ec01c6fbda5443386dc0c11080b524f",
            "13498bb6849948c3972958124607010b",
            "e6e2942f6c354a659d4304d123bc3ed9",
            "c02fdc16829b4b35be88e3dfd717a7f5",
            "e87022adb6484792ac51e120f0897641",
            "da7f083bff1440018c1ba48d9fa58ce0",
            "3ff33a6c0bba4259b462ccc584db56a7",
            "2e65fb6d4e39427ab24aef04a00bd2b7",
            "d6f6405d124846aa8b0d09b283893258",
            "b054008c899a42f2a27ad77f975a2222",
            "1db4b609419e4d238518317d56a557d7",
            "05cb3db937c14fc4a91924aea7b6b024",
            "f37639f95e6349cca7b4f74cf7f52588",
            "983bf23445d24686a32ab969f8b91d29",
            "4cfd112148ef43ae86de08ab04b9ed63",
            "46b948af179c485ebd7b286cf5f3df15",
            "d8a97eecbe374d5fac306ce82daffc03",
            "1e6e84b1540a495eb4faf64b0e692e8a",
            "0471597a4f194e148d74f9f92db585d3",
            "f23dcdb01be942cc8dc9508a935a367e"
          ]
        },
        "outputId": "afaa57f0-b72b-4e52-edb9-44d79c453031"
      },
      "source": [
        "trainingdata = torchvision.datasets.FashionMNIST('./FashionMNIST/',train=True,download=True,transform=torchvision.transforms.ToTensor())\n",
        "testdata = torchvision.datasets.FashionMNIST('./FashionMNIST/',train=False,download=True,transform=torchvision.transforms.ToTensor())"
      ],
      "execution_count": null,
      "outputs": [
        {
          "output_type": "stream",
          "text": [
            "Downloading http://fashion-mnist.s3-website.eu-central-1.amazonaws.com/train-images-idx3-ubyte.gz to ./FashionMNIST/FashionMNIST/raw/train-images-idx3-ubyte.gz\n"
          ],
          "name": "stdout"
        },
        {
          "output_type": "display_data",
          "data": {
            "application/vnd.jupyter.widget-view+json": {
              "model_id": "788a8d9ca2494745805e28a80abd8b9e",
              "version_minor": 0,
              "version_major": 2
            },
            "text/plain": [
              "HBox(children=(FloatProgress(value=1.0, bar_style='info', max=1.0), HTML(value='')))"
            ]
          },
          "metadata": {
            "tags": []
          }
        },
        {
          "output_type": "stream",
          "text": [
            "Extracting ./FashionMNIST/FashionMNIST/raw/train-images-idx3-ubyte.gz to ./FashionMNIST/FashionMNIST/raw\n",
            "Downloading http://fashion-mnist.s3-website.eu-central-1.amazonaws.com/train-labels-idx1-ubyte.gz to ./FashionMNIST/FashionMNIST/raw/train-labels-idx1-ubyte.gz\n"
          ],
          "name": "stdout"
        },
        {
          "output_type": "display_data",
          "data": {
            "application/vnd.jupyter.widget-view+json": {
              "model_id": "0003e93edfec46539b84b538a1039003",
              "version_minor": 0,
              "version_major": 2
            },
            "text/plain": [
              "HBox(children=(FloatProgress(value=1.0, bar_style='info', max=1.0), HTML(value='')))"
            ]
          },
          "metadata": {
            "tags": []
          }
        },
        {
          "output_type": "stream",
          "text": [
            "Extracting ./FashionMNIST/FashionMNIST/raw/train-labels-idx1-ubyte.gz to ./FashionMNIST/FashionMNIST/raw\n",
            "Downloading http://fashion-mnist.s3-website.eu-central-1.amazonaws.com/t10k-images-idx3-ubyte.gz to ./FashionMNIST/FashionMNIST/raw/t10k-images-idx3-ubyte.gz\n"
          ],
          "name": "stdout"
        },
        {
          "output_type": "display_data",
          "data": {
            "application/vnd.jupyter.widget-view+json": {
              "model_id": "e87022adb6484792ac51e120f0897641",
              "version_minor": 0,
              "version_major": 2
            },
            "text/plain": [
              "HBox(children=(FloatProgress(value=1.0, bar_style='info', max=1.0), HTML(value='')))"
            ]
          },
          "metadata": {
            "tags": []
          }
        },
        {
          "output_type": "stream",
          "text": [
            "Extracting ./FashionMNIST/FashionMNIST/raw/t10k-images-idx3-ubyte.gz to ./FashionMNIST/FashionMNIST/raw\n",
            "Downloading http://fashion-mnist.s3-website.eu-central-1.amazonaws.com/t10k-labels-idx1-ubyte.gz to ./FashionMNIST/FashionMNIST/raw/t10k-labels-idx1-ubyte.gz\n"
          ],
          "name": "stdout"
        },
        {
          "output_type": "display_data",
          "data": {
            "application/vnd.jupyter.widget-view+json": {
              "model_id": "f37639f95e6349cca7b4f74cf7f52588",
              "version_minor": 0,
              "version_major": 2
            },
            "text/plain": [
              "HBox(children=(FloatProgress(value=1.0, bar_style='info', max=1.0), HTML(value='')))"
            ]
          },
          "metadata": {
            "tags": []
          }
        },
        {
          "output_type": "stream",
          "text": [
            "Extracting ./FashionMNIST/FashionMNIST/raw/t10k-labels-idx1-ubyte.gz to ./FashionMNIST/FashionMNIST/raw\n",
            "Processing...\n",
            "Done!\n"
          ],
          "name": "stdout"
        },
        {
          "output_type": "stream",
          "text": [
            "/usr/local/lib/python3.6/dist-packages/torchvision/datasets/mnist.py:480: UserWarning: The given NumPy array is not writeable, and PyTorch does not support non-writeable tensors. This means you can write to the underlying (supposedly non-writeable) NumPy array using the tensor. You may want to copy the array to protect its data or make it writeable before converting it to a tensor. This type of warning will be suppressed for the rest of this program. (Triggered internally at  /pytorch/torch/csrc/utils/tensor_numpy.cpp:141.)\n",
            "  return torch.from_numpy(parsed.astype(m[2], copy=False)).view(*s)\n"
          ],
          "name": "stderr"
        }
      ]
    },
    {
      "cell_type": "code",
      "metadata": {
        "id": "RjyDWAScV7Wq",
        "colab": {
          "base_uri": "https://localhost:8080/"
        },
        "outputId": "c14a5670-85a1-4df7-b8be-eeb44b01dedd"
      },
      "source": [
        "trainDataLoader = torch.utils.data.DataLoader(trainingdata, batch_size=64, shuffle=True, pin_memory=True)\n",
        "images, labels = iter(trainDataLoader).next()"
      ],
      "execution_count": null,
      "outputs": [
        {
          "output_type": "stream",
          "text": [
            "\n",
            "\n"
          ],
          "name": "stdout"
        }
      ]
    },
    {
      "cell_type": "markdown",
      "metadata": {
        "id": "Nv9g4in2QzbK"
      },
      "source": [
        "# Linear Model"
      ]
    },
    {
      "cell_type": "code",
      "metadata": {
        "id": "qUI2KGrDJpRx"
      },
      "source": [
        "class LinearReg(torch.nn.Module):\n",
        "    def __init__(self):\n",
        "        super(LinearReg, self).__init__()\n",
        "        self.linear = torch.nn.Linear(28*28, 10)\n",
        "\n",
        "    def forward(self, x):\n",
        "        x = x.view(-1, 28*28)\n",
        "        transformed_x = self.linear(x) # n.b.: object-oriented API layers are \n",
        "        # themselves modules, so when the outer \"network\" module is called, \n",
        "        # this calls the self.forward() methods of its internal modules (layers)\n",
        "        # recursively\n",
        "        return transformed_x"
      ],
      "execution_count": null,
      "outputs": []
    },
    {
      "cell_type": "code",
      "metadata": {
        "id": "AWZh0D-rZuUz"
      },
      "source": [
        "net = LinearReg().cuda()\n",
        "\n",
        "Loss = torch.nn.CrossEntropyLoss()\n",
        "# n.b. the logsoftmax + NLL (negative log likelihood) loss ops are combined in the CrossEntropyLoss \n",
        "# https://pytorch.org/docs/stable/generated/torch.nn.CrossEntropyLoss.html\n",
        "\n",
        "optimizer = torch.optim.SGD(net.parameters(), lr=0.01)"
      ],
      "execution_count": null,
      "outputs": []
    },
    {
      "cell_type": "code",
      "metadata": {
        "id": "nbwWUXgmFl7X",
        "colab": {
          "base_uri": "https://localhost:8080/"
        },
        "outputId": "20e02098-eea4-4c52-f69b-a2352066cd32"
      },
      "source": [
        "# the weights and biases in net's linear layer are gpu tensors\n",
        "print(net.linear.weight.device)\n",
        "print(net.linear.bias.device)"
      ],
      "execution_count": null,
      "outputs": [
        {
          "output_type": "stream",
          "text": [
            "cuda:0\n",
            "cuda:0\n"
          ],
          "name": "stdout"
        }
      ]
    },
    {
      "cell_type": "code",
      "metadata": {
        "id": "oPbDAssf5tnw",
        "colab": {
          "base_uri": "https://localhost:8080/"
        },
        "outputId": "cd3f64b1-06d5-47f7-83e9-e9d51387883b"
      },
      "source": [
        "# what device is images on\n",
        "images.device"
      ],
      "execution_count": null,
      "outputs": [
        {
          "output_type": "execute_result",
          "data": {
            "text/plain": [
              "device(type='cpu')"
            ]
          },
          "metadata": {
            "tags": []
          },
          "execution_count": 15
        }
      ]
    },
    {
      "cell_type": "code",
      "metadata": {
        "id": "XXnq7XbsHlDP",
        "colab": {
          "base_uri": "https://localhost:8080/"
        },
        "outputId": "918c5ace-9940-4c18-e7e1-ddf09870a9cb"
      },
      "source": [
        "# labels\n",
        "labels.device"
      ],
      "execution_count": null,
      "outputs": [
        {
          "output_type": "execute_result",
          "data": {
            "text/plain": [
              "device(type='cpu')"
            ]
          },
          "metadata": {
            "tags": []
          },
          "execution_count": 16
        }
      ]
    },
    {
      "cell_type": "code",
      "metadata": {
        "id": "b7-Sk1k3tOwo",
        "colab": {
          "base_uri": "https://localhost:8080/"
        },
        "outputId": "216cad84-1573-4007-ce88-004cf69783cf"
      },
      "source": [
        "# move labels to the gpu\n",
        "labels = labels.cuda()\n",
        "labels.device"
      ],
      "execution_count": null,
      "outputs": [
        {
          "output_type": "execute_result",
          "data": {
            "text/plain": [
              "device(type='cuda', index=0)"
            ]
          },
          "metadata": {
            "tags": []
          },
          "execution_count": 17
        }
      ]
    },
    {
      "cell_type": "code",
      "metadata": {
        "id": "BzFITEclSgpy",
        "colab": {
          "base_uri": "https://localhost:8080/",
          "height": 429
        },
        "outputId": "cd1280b1-f8c9-4349-cb01-40ffae0ed0a6"
      },
      "source": [
        "# what happens when the input to the network is *not* on the gpu:\n",
        "out = net(images)\n",
        "\n",
        "# same result as using the call method net(images)\n",
        "#out = net.forward(images)\n",
        "\n",
        "#out = net.linear(images.view(-1, 28*28)) # also same\n",
        "\n",
        "#out = net.linear.forward(images.view(-1, 28*28)) # also same"
      ],
      "execution_count": null,
      "outputs": [
        {
          "output_type": "error",
          "ename": "RuntimeError",
          "evalue": "ignored",
          "traceback": [
            "\u001b[0;31m---------------------------------------------------------------------------\u001b[0m",
            "\u001b[0;31mRuntimeError\u001b[0m                              Traceback (most recent call last)",
            "\u001b[0;32m<ipython-input-18-1d1a600b4295>\u001b[0m in \u001b[0;36m<module>\u001b[0;34m()\u001b[0m\n\u001b[1;32m      1\u001b[0m \u001b[0;31m# what happens when the input to the network is *not* on the gpu:\u001b[0m\u001b[0;34m\u001b[0m\u001b[0;34m\u001b[0m\u001b[0;34m\u001b[0m\u001b[0m\n\u001b[0;32m----> 2\u001b[0;31m \u001b[0mout\u001b[0m \u001b[0;34m=\u001b[0m \u001b[0mnet\u001b[0m\u001b[0;34m(\u001b[0m\u001b[0mimages\u001b[0m\u001b[0;34m)\u001b[0m\u001b[0;34m\u001b[0m\u001b[0;34m\u001b[0m\u001b[0m\n\u001b[0m\u001b[1;32m      3\u001b[0m \u001b[0;34m\u001b[0m\u001b[0m\n\u001b[1;32m      4\u001b[0m \u001b[0;31m# same result as using the call method net(images)\u001b[0m\u001b[0;34m\u001b[0m\u001b[0;34m\u001b[0m\u001b[0;34m\u001b[0m\u001b[0m\n\u001b[1;32m      5\u001b[0m \u001b[0;31m#out = net.forward(images)\u001b[0m\u001b[0;34m\u001b[0m\u001b[0;34m\u001b[0m\u001b[0;34m\u001b[0m\u001b[0m\n",
            "\u001b[0;32m/usr/local/lib/python3.6/dist-packages/torch/nn/modules/module.py\u001b[0m in \u001b[0;36m_call_impl\u001b[0;34m(self, *input, **kwargs)\u001b[0m\n\u001b[1;32m    725\u001b[0m             \u001b[0mresult\u001b[0m \u001b[0;34m=\u001b[0m \u001b[0mself\u001b[0m\u001b[0;34m.\u001b[0m\u001b[0m_slow_forward\u001b[0m\u001b[0;34m(\u001b[0m\u001b[0;34m*\u001b[0m\u001b[0minput\u001b[0m\u001b[0;34m,\u001b[0m \u001b[0;34m**\u001b[0m\u001b[0mkwargs\u001b[0m\u001b[0;34m)\u001b[0m\u001b[0;34m\u001b[0m\u001b[0;34m\u001b[0m\u001b[0m\n\u001b[1;32m    726\u001b[0m         \u001b[0;32melse\u001b[0m\u001b[0;34m:\u001b[0m\u001b[0;34m\u001b[0m\u001b[0;34m\u001b[0m\u001b[0m\n\u001b[0;32m--> 727\u001b[0;31m             \u001b[0mresult\u001b[0m \u001b[0;34m=\u001b[0m \u001b[0mself\u001b[0m\u001b[0;34m.\u001b[0m\u001b[0mforward\u001b[0m\u001b[0;34m(\u001b[0m\u001b[0;34m*\u001b[0m\u001b[0minput\u001b[0m\u001b[0;34m,\u001b[0m \u001b[0;34m**\u001b[0m\u001b[0mkwargs\u001b[0m\u001b[0;34m)\u001b[0m\u001b[0;34m\u001b[0m\u001b[0;34m\u001b[0m\u001b[0m\n\u001b[0m\u001b[1;32m    728\u001b[0m         for hook in itertools.chain(\n\u001b[1;32m    729\u001b[0m                 \u001b[0m_global_forward_hooks\u001b[0m\u001b[0;34m.\u001b[0m\u001b[0mvalues\u001b[0m\u001b[0;34m(\u001b[0m\u001b[0;34m)\u001b[0m\u001b[0;34m,\u001b[0m\u001b[0;34m\u001b[0m\u001b[0;34m\u001b[0m\u001b[0m\n",
            "\u001b[0;32m<ipython-input-12-4457728199bd>\u001b[0m in \u001b[0;36mforward\u001b[0;34m(self, x)\u001b[0m\n\u001b[1;32m      6\u001b[0m     \u001b[0;32mdef\u001b[0m \u001b[0mforward\u001b[0m\u001b[0;34m(\u001b[0m\u001b[0mself\u001b[0m\u001b[0;34m,\u001b[0m \u001b[0mx\u001b[0m\u001b[0;34m)\u001b[0m\u001b[0;34m:\u001b[0m\u001b[0;34m\u001b[0m\u001b[0;34m\u001b[0m\u001b[0m\n\u001b[1;32m      7\u001b[0m         \u001b[0mx\u001b[0m \u001b[0;34m=\u001b[0m \u001b[0mx\u001b[0m\u001b[0;34m.\u001b[0m\u001b[0mview\u001b[0m\u001b[0;34m(\u001b[0m\u001b[0;34m-\u001b[0m\u001b[0;36m1\u001b[0m\u001b[0;34m,\u001b[0m \u001b[0;36m28\u001b[0m\u001b[0;34m*\u001b[0m\u001b[0;36m28\u001b[0m\u001b[0;34m)\u001b[0m\u001b[0;34m\u001b[0m\u001b[0;34m\u001b[0m\u001b[0m\n\u001b[0;32m----> 8\u001b[0;31m         \u001b[0mtransformed_x\u001b[0m \u001b[0;34m=\u001b[0m \u001b[0mself\u001b[0m\u001b[0;34m.\u001b[0m\u001b[0mlinear\u001b[0m\u001b[0;34m(\u001b[0m\u001b[0mx\u001b[0m\u001b[0;34m)\u001b[0m \u001b[0;31m# n.b.: object-oriented API layers are\u001b[0m\u001b[0;34m\u001b[0m\u001b[0;34m\u001b[0m\u001b[0m\n\u001b[0m\u001b[1;32m      9\u001b[0m         \u001b[0;31m# themselves modules, so when the outer \"network\" module is called,\u001b[0m\u001b[0;34m\u001b[0m\u001b[0;34m\u001b[0m\u001b[0;34m\u001b[0m\u001b[0m\n\u001b[1;32m     10\u001b[0m         \u001b[0;31m# this calls the self.forward() methods of its internal modules (layers)\u001b[0m\u001b[0;34m\u001b[0m\u001b[0;34m\u001b[0m\u001b[0;34m\u001b[0m\u001b[0m\n",
            "\u001b[0;32m/usr/local/lib/python3.6/dist-packages/torch/nn/modules/module.py\u001b[0m in \u001b[0;36m_call_impl\u001b[0;34m(self, *input, **kwargs)\u001b[0m\n\u001b[1;32m    725\u001b[0m             \u001b[0mresult\u001b[0m \u001b[0;34m=\u001b[0m \u001b[0mself\u001b[0m\u001b[0;34m.\u001b[0m\u001b[0m_slow_forward\u001b[0m\u001b[0;34m(\u001b[0m\u001b[0;34m*\u001b[0m\u001b[0minput\u001b[0m\u001b[0;34m,\u001b[0m \u001b[0;34m**\u001b[0m\u001b[0mkwargs\u001b[0m\u001b[0;34m)\u001b[0m\u001b[0;34m\u001b[0m\u001b[0;34m\u001b[0m\u001b[0m\n\u001b[1;32m    726\u001b[0m         \u001b[0;32melse\u001b[0m\u001b[0;34m:\u001b[0m\u001b[0;34m\u001b[0m\u001b[0;34m\u001b[0m\u001b[0m\n\u001b[0;32m--> 727\u001b[0;31m             \u001b[0mresult\u001b[0m \u001b[0;34m=\u001b[0m \u001b[0mself\u001b[0m\u001b[0;34m.\u001b[0m\u001b[0mforward\u001b[0m\u001b[0;34m(\u001b[0m\u001b[0;34m*\u001b[0m\u001b[0minput\u001b[0m\u001b[0;34m,\u001b[0m \u001b[0;34m**\u001b[0m\u001b[0mkwargs\u001b[0m\u001b[0;34m)\u001b[0m\u001b[0;34m\u001b[0m\u001b[0;34m\u001b[0m\u001b[0m\n\u001b[0m\u001b[1;32m    728\u001b[0m         for hook in itertools.chain(\n\u001b[1;32m    729\u001b[0m                 \u001b[0m_global_forward_hooks\u001b[0m\u001b[0;34m.\u001b[0m\u001b[0mvalues\u001b[0m\u001b[0;34m(\u001b[0m\u001b[0;34m)\u001b[0m\u001b[0;34m,\u001b[0m\u001b[0;34m\u001b[0m\u001b[0;34m\u001b[0m\u001b[0m\n",
            "\u001b[0;32m/usr/local/lib/python3.6/dist-packages/torch/nn/modules/linear.py\u001b[0m in \u001b[0;36mforward\u001b[0;34m(self, input)\u001b[0m\n\u001b[1;32m     91\u001b[0m \u001b[0;34m\u001b[0m\u001b[0m\n\u001b[1;32m     92\u001b[0m     \u001b[0;32mdef\u001b[0m \u001b[0mforward\u001b[0m\u001b[0;34m(\u001b[0m\u001b[0mself\u001b[0m\u001b[0;34m,\u001b[0m \u001b[0minput\u001b[0m\u001b[0;34m:\u001b[0m \u001b[0mTensor\u001b[0m\u001b[0;34m)\u001b[0m \u001b[0;34m->\u001b[0m \u001b[0mTensor\u001b[0m\u001b[0;34m:\u001b[0m\u001b[0;34m\u001b[0m\u001b[0;34m\u001b[0m\u001b[0m\n\u001b[0;32m---> 93\u001b[0;31m         \u001b[0;32mreturn\u001b[0m \u001b[0mF\u001b[0m\u001b[0;34m.\u001b[0m\u001b[0mlinear\u001b[0m\u001b[0;34m(\u001b[0m\u001b[0minput\u001b[0m\u001b[0;34m,\u001b[0m \u001b[0mself\u001b[0m\u001b[0;34m.\u001b[0m\u001b[0mweight\u001b[0m\u001b[0;34m,\u001b[0m \u001b[0mself\u001b[0m\u001b[0;34m.\u001b[0m\u001b[0mbias\u001b[0m\u001b[0;34m)\u001b[0m\u001b[0;34m\u001b[0m\u001b[0;34m\u001b[0m\u001b[0m\n\u001b[0m\u001b[1;32m     94\u001b[0m \u001b[0;34m\u001b[0m\u001b[0m\n\u001b[1;32m     95\u001b[0m     \u001b[0;32mdef\u001b[0m \u001b[0mextra_repr\u001b[0m\u001b[0;34m(\u001b[0m\u001b[0mself\u001b[0m\u001b[0;34m)\u001b[0m \u001b[0;34m->\u001b[0m \u001b[0mstr\u001b[0m\u001b[0;34m:\u001b[0m\u001b[0;34m\u001b[0m\u001b[0;34m\u001b[0m\u001b[0m\n",
            "\u001b[0;32m/usr/local/lib/python3.6/dist-packages/torch/nn/functional.py\u001b[0m in \u001b[0;36mlinear\u001b[0;34m(input, weight, bias)\u001b[0m\n\u001b[1;32m   1688\u001b[0m     \u001b[0;32mif\u001b[0m \u001b[0minput\u001b[0m\u001b[0;34m.\u001b[0m\u001b[0mdim\u001b[0m\u001b[0;34m(\u001b[0m\u001b[0;34m)\u001b[0m \u001b[0;34m==\u001b[0m \u001b[0;36m2\u001b[0m \u001b[0;32mand\u001b[0m \u001b[0mbias\u001b[0m \u001b[0;32mis\u001b[0m \u001b[0;32mnot\u001b[0m \u001b[0;32mNone\u001b[0m\u001b[0;34m:\u001b[0m\u001b[0;34m\u001b[0m\u001b[0;34m\u001b[0m\u001b[0m\n\u001b[1;32m   1689\u001b[0m         \u001b[0;31m# fused op is marginally faster\u001b[0m\u001b[0;34m\u001b[0m\u001b[0;34m\u001b[0m\u001b[0;34m\u001b[0m\u001b[0m\n\u001b[0;32m-> 1690\u001b[0;31m         \u001b[0mret\u001b[0m \u001b[0;34m=\u001b[0m \u001b[0mtorch\u001b[0m\u001b[0;34m.\u001b[0m\u001b[0maddmm\u001b[0m\u001b[0;34m(\u001b[0m\u001b[0mbias\u001b[0m\u001b[0;34m,\u001b[0m \u001b[0minput\u001b[0m\u001b[0;34m,\u001b[0m \u001b[0mweight\u001b[0m\u001b[0;34m.\u001b[0m\u001b[0mt\u001b[0m\u001b[0;34m(\u001b[0m\u001b[0;34m)\u001b[0m\u001b[0;34m)\u001b[0m\u001b[0;34m\u001b[0m\u001b[0;34m\u001b[0m\u001b[0m\n\u001b[0m\u001b[1;32m   1691\u001b[0m     \u001b[0;32melse\u001b[0m\u001b[0;34m:\u001b[0m\u001b[0;34m\u001b[0m\u001b[0;34m\u001b[0m\u001b[0m\n\u001b[1;32m   1692\u001b[0m         \u001b[0moutput\u001b[0m \u001b[0;34m=\u001b[0m \u001b[0minput\u001b[0m\u001b[0;34m.\u001b[0m\u001b[0mmatmul\u001b[0m\u001b[0;34m(\u001b[0m\u001b[0mweight\u001b[0m\u001b[0;34m.\u001b[0m\u001b[0mt\u001b[0m\u001b[0;34m(\u001b[0m\u001b[0;34m)\u001b[0m\u001b[0;34m)\u001b[0m\u001b[0;34m\u001b[0m\u001b[0;34m\u001b[0m\u001b[0m\n",
            "\u001b[0;31mRuntimeError\u001b[0m: Tensor for argument #2 'mat1' is on CPU, but expected it to be on GPU (while checking arguments for addmm)"
          ]
        }
      ]
    },
    {
      "cell_type": "code",
      "metadata": {
        "colab": {
          "base_uri": "https://localhost:8080/"
        },
        "id": "Oi5qWWdxmv6-",
        "outputId": "9d4285c1-c197-4476-f164-766b08b627d1"
      },
      "source": [
        "images = images.cuda()\n",
        "images.device"
      ],
      "execution_count": null,
      "outputs": [
        {
          "output_type": "execute_result",
          "data": {
            "text/plain": [
              "device(type='cuda', index=0)"
            ]
          },
          "metadata": {
            "tags": []
          },
          "execution_count": 19
        }
      ]
    },
    {
      "cell_type": "code",
      "metadata": {
        "id": "3LG217lImrgk"
      },
      "source": [
        "out = net(images)"
      ],
      "execution_count": null,
      "outputs": []
    },
    {
      "cell_type": "code",
      "metadata": {
        "id": "2_P8yfJo9YUP",
        "colab": {
          "base_uri": "https://localhost:8080/"
        },
        "outputId": "6a7205c2-c7b0-42fd-f1df-bd2b71c7f941"
      },
      "source": [
        "out.device"
      ],
      "execution_count": null,
      "outputs": [
        {
          "output_type": "execute_result",
          "data": {
            "text/plain": [
              "device(type='cuda', index=0)"
            ]
          },
          "metadata": {
            "tags": []
          },
          "execution_count": 21
        }
      ]
    },
    {
      "cell_type": "code",
      "metadata": {
        "id": "_vEGLmBBAqgr",
        "colab": {
          "base_uri": "https://localhost:8080/"
        },
        "outputId": "59c40681-3546-438d-9fce-1c719d6d5d2d"
      },
      "source": [
        "out.grad_fn"
      ],
      "execution_count": null,
      "outputs": [
        {
          "output_type": "execute_result",
          "data": {
            "text/plain": [
              "<AddmmBackward at 0x7f8c6eea5400>"
            ]
          },
          "metadata": {
            "tags": []
          },
          "execution_count": 22
        }
      ]
    },
    {
      "cell_type": "code",
      "metadata": {
        "colab": {
          "base_uri": "https://localhost:8080/",
          "height": 249
        },
        "id": "tnjfjjNQXPc8",
        "outputId": "fc78a0d9-91a2-4521-9e97-ac5dcb73c5ee"
      },
      "source": [
        "make_dot(out)"
      ],
      "execution_count": null,
      "outputs": [
        {
          "output_type": "execute_result",
          "data": {
            "text/plain": [
              "<graphviz.dot.Digraph at 0x7f8c8000b860>"
            ],
            "image/svg+xml": "<?xml version=\"1.0\" encoding=\"UTF-8\" standalone=\"no\"?>\n<!DOCTYPE svg PUBLIC \"-//W3C//DTD SVG 1.1//EN\"\n \"http://www.w3.org/Graphics/SVG/1.1/DTD/svg11.dtd\">\n<!-- Generated by graphviz version 2.40.1 (20161225.0304)\n -->\n<!-- Title: %3 Pages: 1 -->\n<svg width=\"154pt\" height=\"171pt\"\n viewBox=\"0.00 0.00 153.50 171.00\" xmlns=\"http://www.w3.org/2000/svg\" xmlns:xlink=\"http://www.w3.org/1999/xlink\">\n<g id=\"graph0\" class=\"graph\" transform=\"scale(1 1) rotate(0) translate(4 167)\">\n<title>%3</title>\n<polygon fill=\"#ffffff\" stroke=\"transparent\" points=\"-4,4 -4,-167 149.5,-167 149.5,4 -4,4\"/>\n<!-- 140241132999680 -->\n<g id=\"node1\" class=\"node\">\n<title>140241132999680</title>\n<polygon fill=\"#caff70\" stroke=\"#000000\" points=\"120,-21 16,-21 16,0 120,0 120,-21\"/>\n<text text-anchor=\"middle\" x=\"68\" y=\"-7.4\" font-family=\"Times,serif\" font-size=\"12.00\" fill=\"#000000\">AddmmBackward</text>\n</g>\n<!-- 140241134251256 -->\n<g id=\"node2\" class=\"node\">\n<title>140241134251256</title>\n<polygon fill=\"#add8e6\" stroke=\"#000000\" points=\"54,-92 0,-92 0,-57 54,-57 54,-92\"/>\n<text text-anchor=\"middle\" x=\"27\" y=\"-64.4\" font-family=\"Times,serif\" font-size=\"12.00\" fill=\"#000000\"> (10)</text>\n</g>\n<!-- 140241134251256&#45;&gt;140241132999680 -->\n<g id=\"edge1\" class=\"edge\">\n<title>140241134251256&#45;&gt;140241132999680</title>\n<path fill=\"none\" stroke=\"#000000\" d=\"M38.4208,-56.6724C43.7802,-48.3066 50.1771,-38.3212 55.6488,-29.7799\"/>\n<polygon fill=\"#000000\" stroke=\"#000000\" points=\"58.6831,-31.5318 61.1303,-21.2234 52.7889,-27.7558 58.6831,-31.5318\"/>\n</g>\n<!-- 140241134251648 -->\n<g id=\"node3\" class=\"node\">\n<title>140241134251648</title>\n<polygon fill=\"#d3d3d3\" stroke=\"#000000\" points=\"145.5,-85 72.5,-85 72.5,-64 145.5,-64 145.5,-85\"/>\n<text text-anchor=\"middle\" x=\"109\" y=\"-71.4\" font-family=\"Times,serif\" font-size=\"12.00\" fill=\"#000000\">TBackward</text>\n</g>\n<!-- 140241134251648&#45;&gt;140241132999680 -->\n<g id=\"edge2\" class=\"edge\">\n<title>140241134251648&#45;&gt;140241132999680</title>\n<path fill=\"none\" stroke=\"#000000\" d=\"M102.2297,-63.9317C96.3303,-54.723 87.6236,-41.1319 80.4678,-29.9619\"/>\n<polygon fill=\"#000000\" stroke=\"#000000\" points=\"83.2588,-27.8302 74.9174,-21.2979 77.3646,-31.6063 83.2588,-27.8302\"/>\n</g>\n<!-- 140241134249240 -->\n<g id=\"node4\" class=\"node\">\n<title>140241134249240</title>\n<polygon fill=\"#add8e6\" stroke=\"#000000\" points=\"140.5,-163 77.5,-163 77.5,-128 140.5,-128 140.5,-163\"/>\n<text text-anchor=\"middle\" x=\"109\" y=\"-135.4\" font-family=\"Times,serif\" font-size=\"12.00\" fill=\"#000000\"> (10, 784)</text>\n</g>\n<!-- 140241134249240&#45;&gt;140241134251648 -->\n<g id=\"edge3\" class=\"edge\">\n<title>140241134249240&#45;&gt;140241134251648</title>\n<path fill=\"none\" stroke=\"#000000\" d=\"M109,-127.9494C109,-118.058 109,-105.6435 109,-95.2693\"/>\n<polygon fill=\"#000000\" stroke=\"#000000\" points=\"112.5001,-95.0288 109,-85.0288 105.5001,-95.0289 112.5001,-95.0288\"/>\n</g>\n</g>\n</svg>\n"
          },
          "metadata": {
            "tags": []
          },
          "execution_count": 23
        }
      ]
    },
    {
      "cell_type": "code",
      "metadata": {
        "id": "JvcLJfwyDI8P"
      },
      "source": [
        "# Loss applies logsoftmax to ''out'', then applies negative log likelihood loss\n",
        "# between ''out'' and ''labels''\n",
        "fit = Loss(out, labels)"
      ],
      "execution_count": null,
      "outputs": []
    },
    {
      "cell_type": "code",
      "metadata": {
        "id": "CbxC4igTIWp7",
        "colab": {
          "base_uri": "https://localhost:8080/",
          "height": 401
        },
        "outputId": "ea4f17a5-b08b-4de9-a7b6-7d2e20401968"
      },
      "source": [
        "make_dot(fit)"
      ],
      "execution_count": null,
      "outputs": [
        {
          "output_type": "execute_result",
          "data": {
            "text/plain": [
              "<graphviz.dot.Digraph at 0x7f8c8003a1d0>"
            ],
            "image/svg+xml": "<?xml version=\"1.0\" encoding=\"UTF-8\" standalone=\"no\"?>\n<!DOCTYPE svg PUBLIC \"-//W3C//DTD SVG 1.1//EN\"\n \"http://www.w3.org/Graphics/SVG/1.1/DTD/svg11.dtd\">\n<!-- Generated by graphviz version 2.40.1 (20161225.0304)\n -->\n<!-- Title: %3 Pages: 1 -->\n<svg width=\"154pt\" height=\"285pt\"\n viewBox=\"0.00 0.00 153.50 285.00\" xmlns=\"http://www.w3.org/2000/svg\" xmlns:xlink=\"http://www.w3.org/1999/xlink\">\n<g id=\"graph0\" class=\"graph\" transform=\"scale(1 1) rotate(0) translate(4 281)\">\n<title>%3</title>\n<polygon fill=\"#ffffff\" stroke=\"transparent\" points=\"-4,4 -4,-281 149.5,-281 149.5,4 -4,4\"/>\n<!-- 140241134249128 -->\n<g id=\"node1\" class=\"node\">\n<title>140241134249128</title>\n<polygon fill=\"#caff70\" stroke=\"#000000\" points=\"119.5,-21 16.5,-21 16.5,0 119.5,0 119.5,-21\"/>\n<text text-anchor=\"middle\" x=\"68\" y=\"-7.4\" font-family=\"Times,serif\" font-size=\"12.00\" fill=\"#000000\">NllLossBackward</text>\n</g>\n<!-- 140241134250472 -->\n<g id=\"node2\" class=\"node\">\n<title>140241134250472</title>\n<polygon fill=\"#d3d3d3\" stroke=\"#000000\" points=\"130.5,-78 5.5,-78 5.5,-57 130.5,-57 130.5,-78\"/>\n<text text-anchor=\"middle\" x=\"68\" y=\"-64.4\" font-family=\"Times,serif\" font-size=\"12.00\" fill=\"#000000\">LogSoftmaxBackward</text>\n</g>\n<!-- 140241134250472&#45;&gt;140241134249128 -->\n<g id=\"edge1\" class=\"edge\">\n<title>140241134250472&#45;&gt;140241134249128</title>\n<path fill=\"none\" stroke=\"#000000\" d=\"M68,-56.7787C68,-49.6134 68,-39.9517 68,-31.3097\"/>\n<polygon fill=\"#000000\" stroke=\"#000000\" points=\"71.5001,-31.1732 68,-21.1732 64.5001,-31.1732 71.5001,-31.1732\"/>\n</g>\n<!-- 140241132999680 -->\n<g id=\"node3\" class=\"node\">\n<title>140241132999680</title>\n<polygon fill=\"#d3d3d3\" stroke=\"#000000\" points=\"120,-135 16,-135 16,-114 120,-114 120,-135\"/>\n<text text-anchor=\"middle\" x=\"68\" y=\"-121.4\" font-family=\"Times,serif\" font-size=\"12.00\" fill=\"#000000\">AddmmBackward</text>\n</g>\n<!-- 140241132999680&#45;&gt;140241134250472 -->\n<g id=\"edge2\" class=\"edge\">\n<title>140241132999680&#45;&gt;140241134250472</title>\n<path fill=\"none\" stroke=\"#000000\" d=\"M68,-113.7787C68,-106.6134 68,-96.9517 68,-88.3097\"/>\n<polygon fill=\"#000000\" stroke=\"#000000\" points=\"71.5001,-88.1732 68,-78.1732 64.5001,-88.1732 71.5001,-88.1732\"/>\n</g>\n<!-- 140241134251256 -->\n<g id=\"node4\" class=\"node\">\n<title>140241134251256</title>\n<polygon fill=\"#add8e6\" stroke=\"#000000\" points=\"54,-206 0,-206 0,-171 54,-171 54,-206\"/>\n<text text-anchor=\"middle\" x=\"27\" y=\"-178.4\" font-family=\"Times,serif\" font-size=\"12.00\" fill=\"#000000\"> (10)</text>\n</g>\n<!-- 140241134251256&#45;&gt;140241132999680 -->\n<g id=\"edge3\" class=\"edge\">\n<title>140241134251256&#45;&gt;140241132999680</title>\n<path fill=\"none\" stroke=\"#000000\" d=\"M38.4208,-170.6724C43.7802,-162.3066 50.1771,-152.3212 55.6488,-143.7799\"/>\n<polygon fill=\"#000000\" stroke=\"#000000\" points=\"58.6831,-145.5318 61.1303,-135.2234 52.7889,-141.7558 58.6831,-145.5318\"/>\n</g>\n<!-- 140241134251648 -->\n<g id=\"node5\" class=\"node\">\n<title>140241134251648</title>\n<polygon fill=\"#d3d3d3\" stroke=\"#000000\" points=\"145.5,-199 72.5,-199 72.5,-178 145.5,-178 145.5,-199\"/>\n<text text-anchor=\"middle\" x=\"109\" y=\"-185.4\" font-family=\"Times,serif\" font-size=\"12.00\" fill=\"#000000\">TBackward</text>\n</g>\n<!-- 140241134251648&#45;&gt;140241132999680 -->\n<g id=\"edge4\" class=\"edge\">\n<title>140241134251648&#45;&gt;140241132999680</title>\n<path fill=\"none\" stroke=\"#000000\" d=\"M102.2297,-177.9317C96.3303,-168.723 87.6236,-155.1319 80.4678,-143.9619\"/>\n<polygon fill=\"#000000\" stroke=\"#000000\" points=\"83.2588,-141.8302 74.9174,-135.2979 77.3646,-145.6063 83.2588,-141.8302\"/>\n</g>\n<!-- 140241134249240 -->\n<g id=\"node6\" class=\"node\">\n<title>140241134249240</title>\n<polygon fill=\"#add8e6\" stroke=\"#000000\" points=\"140.5,-277 77.5,-277 77.5,-242 140.5,-242 140.5,-277\"/>\n<text text-anchor=\"middle\" x=\"109\" y=\"-249.4\" font-family=\"Times,serif\" font-size=\"12.00\" fill=\"#000000\"> (10, 784)</text>\n</g>\n<!-- 140241134249240&#45;&gt;140241134251648 -->\n<g id=\"edge5\" class=\"edge\">\n<title>140241134249240&#45;&gt;140241134251648</title>\n<path fill=\"none\" stroke=\"#000000\" d=\"M109,-241.9494C109,-232.058 109,-219.6435 109,-209.2693\"/>\n<polygon fill=\"#000000\" stroke=\"#000000\" points=\"112.5001,-209.0288 109,-199.0288 105.5001,-209.0289 112.5001,-209.0288\"/>\n</g>\n</g>\n</svg>\n"
          },
          "metadata": {
            "tags": []
          },
          "execution_count": 25
        }
      ]
    },
    {
      "cell_type": "code",
      "metadata": {
        "colab": {
          "base_uri": "https://localhost:8080/"
        },
        "id": "_stH2hZnbxQF",
        "outputId": "625b142d-849b-4ee4-9c5d-fa04cf23901b"
      },
      "source": [
        "print(fit.grad_fn.next_functions)\n",
        "print(fit.grad_fn.next_functions[0][0].next_functions)\n",
        "print(fit.grad_fn.next_functions[0][0].next_functions[0][0].next_functions)\n",
        "print(fit.grad_fn.next_functions[0][0].next_functions[0][0].next_functions[2][0].next_functions)"
      ],
      "execution_count": null,
      "outputs": [
        {
          "output_type": "stream",
          "text": [
            "((<LogSoftmaxBackward object at 0x7f8c6c646cf8>, 0),)\n",
            "((<AddmmBackward object at 0x7f8c6eea5400>, 0),)\n",
            "((<AccumulateGrad object at 0x7f8c6efd1c50>, 0), (None, 0), (<TBackward object at 0x7f8c6c646f28>, 0))\n",
            "((<AccumulateGrad object at 0x7f8c6c6462b0>, 0),)\n"
          ],
          "name": "stdout"
        }
      ]
    },
    {
      "cell_type": "code",
      "metadata": {
        "colab": {
          "base_uri": "https://localhost:8080/"
        },
        "id": "g3JerxjgcIcQ",
        "outputId": "10dac6de-8ccc-4d38-c6ef-3439b634d728"
      },
      "source": [
        "print(fit.grad_fn.next_functions[0][0].next_functions[0][0].next_functions[0][0].variable)\n",
        "# is a thing whose gradients get accumulated - the bias tensor\n",
        "fit_grad_variable_bias = fit.grad_fn.next_functions[0][0].next_functions[0][0].next_functions[0][0].variable"
      ],
      "execution_count": null,
      "outputs": [
        {
          "output_type": "stream",
          "text": [
            "Parameter containing:\n",
            "tensor([ 0.0328, -0.0267,  0.0333,  0.0287,  0.0002,  0.0060, -0.0245, -0.0038,\n",
            "         0.0055,  0.0119], device='cuda:0', requires_grad=True)\n"
          ],
          "name": "stdout"
        }
      ]
    },
    {
      "cell_type": "code",
      "metadata": {
        "colab": {
          "base_uri": "https://localhost:8080/"
        },
        "id": "2F2k4gH9hAG2",
        "outputId": "0328b6a7-285c-4d0a-8612-c4f373be3c6c"
      },
      "source": [
        "print(fit.grad_fn.next_functions[0][0].next_functions[0][0].next_functions[2][0].next_functions[0][0].variable)\n",
        "# is a thing whose gradients get accumulated - the weight tensor\n",
        "fit_grad_variable_weight = fit.grad_fn.next_functions[0][0].next_functions[0][0].next_functions[2][0].next_functions[0][0].variable"
      ],
      "execution_count": null,
      "outputs": [
        {
          "output_type": "stream",
          "text": [
            "Parameter containing:\n",
            "tensor([[-0.0122, -0.0355, -0.0309,  ..., -0.0274,  0.0118, -0.0219],\n",
            "        [ 0.0157,  0.0169,  0.0100,  ...,  0.0069, -0.0351,  0.0356],\n",
            "        [-0.0022,  0.0357,  0.0121,  ...,  0.0272,  0.0342,  0.0190],\n",
            "        ...,\n",
            "        [-0.0346,  0.0017,  0.0089,  ...,  0.0138,  0.0015, -0.0006],\n",
            "        [-0.0238,  0.0168,  0.0102,  ...,  0.0070,  0.0349, -0.0169],\n",
            "        [-0.0156, -0.0012, -0.0211,  ...,  0.0353,  0.0154,  0.0327]],\n",
            "       device='cuda:0', requires_grad=True)\n"
          ],
          "name": "stdout"
        }
      ]
    },
    {
      "cell_type": "code",
      "metadata": {
        "colab": {
          "base_uri": "https://localhost:8080/"
        },
        "id": "35bJILg8crFv",
        "outputId": "361f991f-08d5-4949-f371-01d85cb39d97"
      },
      "source": [
        "print(net.linear.bias == fit_grad_variable_bias)\n",
        "print(net.linear.weight == fit_grad_variable_weight)"
      ],
      "execution_count": null,
      "outputs": [
        {
          "output_type": "stream",
          "text": [
            "tensor([True, True, True, True, True, True, True, True, True, True],\n",
            "       device='cuda:0')\n",
            "tensor([[True, True, True,  ..., True, True, True],\n",
            "        [True, True, True,  ..., True, True, True],\n",
            "        [True, True, True,  ..., True, True, True],\n",
            "        ...,\n",
            "        [True, True, True,  ..., True, True, True],\n",
            "        [True, True, True,  ..., True, True, True],\n",
            "        [True, True, True,  ..., True, True, True]], device='cuda:0')\n"
          ],
          "name": "stdout"
        }
      ]
    },
    {
      "cell_type": "code",
      "metadata": {
        "colab": {
          "base_uri": "https://localhost:8080/"
        },
        "id": "YeJNU9d5pVSN",
        "outputId": "fbb2cd3e-4449-49b2-f7dc-d5e49c135bbc"
      },
      "source": [
        "print(net.linear.weight.grad)\n",
        "print(net.linear.bias.grad)"
      ],
      "execution_count": null,
      "outputs": [
        {
          "output_type": "stream",
          "text": [
            "None\n",
            "None\n"
          ],
          "name": "stdout"
        }
      ]
    },
    {
      "cell_type": "code",
      "metadata": {
        "id": "1I2LUzFg4IQ-"
      },
      "source": [
        "fit.backward()"
      ],
      "execution_count": null,
      "outputs": []
    },
    {
      "cell_type": "code",
      "metadata": {
        "colab": {
          "base_uri": "https://localhost:8080/"
        },
        "id": "2EusXx3WoY_V",
        "outputId": "90d11887-0614-41d9-cdea-7c4c9704eb94"
      },
      "source": [
        "# weights and biases now updated with gradients wrt fit\n",
        "print(net.linear.weight.grad)\n",
        "print(net.linear.bias.grad)"
      ],
      "execution_count": null,
      "outputs": [
        {
          "output_type": "stream",
          "text": [
            "tensor([[ 0.0000e+00,  1.3557e-05,  1.3557e-05,  ...,  1.3514e-03,\n",
            "          1.3557e-05,  0.0000e+00],\n",
            "        [ 0.0000e+00,  1.0328e-05,  1.0328e-05,  ...,  1.3653e-03,\n",
            "          1.0328e-05,  0.0000e+00],\n",
            "        [ 0.0000e+00,  1.5866e-05,  1.5866e-05,  ..., -1.3946e-03,\n",
            "          1.5866e-05,  0.0000e+00],\n",
            "        ...,\n",
            "        [ 0.0000e+00,  1.3639e-05,  1.3639e-05,  ...,  1.5273e-03,\n",
            "          1.3639e-05,  0.0000e+00],\n",
            "        [ 0.0000e+00,  9.3135e-06,  9.3135e-06,  ...,  1.4215e-03,\n",
            "          9.3135e-06,  0.0000e+00],\n",
            "        [ 0.0000e+00, -1.1401e-04, -1.1401e-04,  ...,  9.1818e-04,\n",
            "         -1.1401e-04,  0.0000e+00]], device='cuda:0')\n",
            "tensor([ 0.0340,  0.0188,  0.0466,  0.0614, -0.1547,  0.0319, -0.0603,  0.0229,\n",
            "         0.0220, -0.0226], device='cuda:0')\n"
          ],
          "name": "stdout"
        }
      ]
    },
    {
      "cell_type": "markdown",
      "metadata": {
        "id": "qtDdQhvx8zIs"
      },
      "source": [
        "Tip: when using the gpu, it's a good idea to use ''Factory reset runtime'' every so often to make sure all data and errors are completely cleared so as to prevent unexpected problems."
      ]
    },
    {
      "cell_type": "code",
      "metadata": {
        "id": "z59-m_bypxNr"
      },
      "source": [
        ""
      ],
      "execution_count": null,
      "outputs": []
    }
  ]
}